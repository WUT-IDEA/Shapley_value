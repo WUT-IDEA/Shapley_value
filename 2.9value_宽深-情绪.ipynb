{
 "cells": [
  {
   "cell_type": "code",
   "execution_count": 1,
   "metadata": {
    "ExecuteTime": {
     "end_time": "2021-12-21T13:36:02.643561Z",
     "start_time": "2021-12-21T13:36:01.829916Z"
    }
   },
   "outputs": [],
   "source": [
    "from sklearn.metrics import accuracy_score,recall_score,precision_score,f1_score"
   ]
  },
  {
   "cell_type": "code",
   "execution_count": 2,
   "metadata": {
    "ExecuteTime": {
     "end_time": "2021-12-21T13:36:02.650148Z",
     "start_time": "2021-12-21T13:36:02.646253Z"
    }
   },
   "outputs": [],
   "source": [
    "from sklearn.metrics import classification_report"
   ]
  },
  {
   "cell_type": "code",
   "execution_count": 3,
   "metadata": {
    "ExecuteTime": {
     "end_time": "2021-12-21T13:36:03.339629Z",
     "start_time": "2021-12-21T13:36:02.652621Z"
    }
   },
   "outputs": [],
   "source": [
    "import pandas as pd\n",
    "df=pd.read_csv(\"source_Xqingxu.csv\",encoding=\"utf-8\")\n",
    "\n",
    "df=df.dropna(axis=0)\n"
   ]
  },
  {
   "cell_type": "code",
   "execution_count": 4,
   "metadata": {},
   "outputs": [
    {
     "data": {
      "text/plain": [
       "(8000, 5)"
      ]
     },
     "execution_count": 4,
     "metadata": {},
     "output_type": "execute_result"
    }
   ],
   "source": [
    "df.shape"
   ]
  },
  {
   "cell_type": "code",
   "execution_count": 5,
   "metadata": {
    "ExecuteTime": {
     "end_time": "2021-12-21T13:36:03.418763Z",
     "start_time": "2021-12-21T13:36:03.341630Z"
    }
   },
   "outputs": [],
   "source": [
    "dfnew=pd.read_csv(\"source_y.csv\",encoding=\"utf-8\")\n",
    "\n",
    "df=pd.concat([df,dfnew],axis=1)\n",
    "\n",
    "df[\"happiness\"].value_counts()\n",
    "\n",
    "df[\"happiness\"]=df[\"happiness\"].map({1:0,2:1,3:2,4:3,5:4})\n",
    "df=pd.concat([df[df[\"happiness\"]==3].sample(frac=0.3),df[df[\"happiness\"]!=3]],axis=0)\n",
    "label=df[\"happiness\"]\n",
    "df[\"newcol_1\"]=1\n",
    "df[\"newcol_2\"]=0\n",
    "del df[\"happiness\"]\n",
    "\n",
    "from sklearn.model_selection import train_test_split\n",
    "X_train, X_test, y_train, y_test = train_test_split(df, label, test_size=0.2, random_state=42)"
   ]
  },
  {
   "cell_type": "code",
   "execution_count": 6,
   "metadata": {
    "ExecuteTime": {
     "end_time": "2021-12-21T13:36:03.508207Z",
     "start_time": "2021-12-21T13:36:03.421026Z"
    }
   },
   "outputs": [
    {
     "name": "stdout",
     "output_type": "stream",
     "text": [
      "      depression_1  depression_2  depression_3  depression_4  depression_5\n",
      "2108             0             0             0             1             0\n",
      "6802             0             0             0             1             0\n",
      "5521             0             0             0             1             0\n",
      "6590             0             0             0             0             1\n",
      "1312             0             1             0             0             0\n",
      "...            ...           ...           ...           ...           ...\n",
      "7987             0             0             1             0             0\n",
      "7992             0             0             0             0             1\n",
      "7995             0             0             1             0             0\n",
      "7996             0             0             1             0             0\n",
      "7998             0             0             0             1             0\n",
      "\n",
      "[4627 rows x 5 columns]\n",
      "      newcol_1  newcol_2\n",
      "2108         1         0\n",
      "6802         1         0\n",
      "5521         1         0\n",
      "6590         1         0\n",
      "1312         1         0\n",
      "...        ...       ...\n",
      "7987         1         0\n",
      "7992         1         0\n",
      "7995         1         0\n",
      "7996         1         0\n",
      "7998         1         0\n",
      "\n",
      "[4627 rows x 2 columns]\n"
     ]
    }
   ],
   "source": [
    "col=[]\n",
    "for i in df.columns:\n",
    "    col.append(i.split(\"_\")[0])\n",
    "\n",
    "import numpy as np\n",
    "l=[]\n",
    "first=0\n",
    "last=0\n",
    "colname=[]\n",
    "for ind,i in enumerate(col):\n",
    "    last+=1\n",
    "    if last==len(col):\n",
    "         \n",
    "         print (df[df.columns[first:last]])\n",
    "         colname.append(df.columns[first:last][0][:-2])\n",
    "         l.append(np.argmax(df[df.columns[first:last]].values,axis=1))\n",
    "         break\n",
    "    if col[last]!=col[last-1]:\n",
    "         print (df[df.columns[first:last]])\n",
    "         colname.append(df.columns[first:last][0][:-2])\n",
    "#          print (np.argmax(df[df.columns[first:last]].values,axis=1).max())\n",
    "         l.append(np.argmax(df[df.columns[first:last]].values,axis=1))\n",
    "         first=last\n",
    "         last=last+1\n",
    "         \n",
    "#          break"
   ]
  },
  {
   "cell_type": "code",
   "execution_count": 7,
   "metadata": {},
   "outputs": [
    {
     "data": {
      "text/plain": [
       "['depression', 'newcol']"
      ]
     },
     "execution_count": 7,
     "metadata": {},
     "output_type": "execute_result"
    }
   ],
   "source": [
    "colname"
   ]
  },
  {
   "cell_type": "code",
   "execution_count": 9,
   "metadata": {
    "ExecuteTime": {
     "end_time": "2021-12-21T13:36:05.520207Z",
     "start_time": "2021-12-21T13:36:03.510379Z"
    }
   },
   "outputs": [],
   "source": [
    "import pandas as pd\n",
    "\n",
    "dfemd=pd.DataFrame()\n",
    "\n",
    "embed_num=[]\n",
    "for ind,i in enumerate(l):\n",
    "    dfemd[ind]=i\n",
    "    embed_num.append(len(dfemd[ind].unique())+2)\n",
    "\n",
    "import tensorflow as tf\n",
    "from tensorflow.keras.layers import *\n",
    "from tensorflow.keras import *\n",
    "import numpy as np\n",
    "import os\n",
    "from tensorflow.keras.callbacks import EarlyStopping, ModelCheckpoint\n",
    "from tensorflow.keras.layers import Dense, Input, Dropout, Bidirectional\n",
    "\n",
    "from tensorflow.keras.models import Model\n",
    "from tensorflow.keras import backend as K\n",
    "import re\n",
    "from tensorflow.keras.callbacks import Callback\n",
    "import tensorflow\n",
    "from tensorflow.keras.models import load_model\n",
    "from sklearn import metrics\n",
    "from sklearn.model_selection import KFold\n",
    "\n",
    "\n",
    "def get_deep_wide_net():\n",
    "    embedall=[]\n",
    "    for ind,i in enumerate(dfemd.columns):\n",
    "         embedall.append(Embedding(100, 128, input_length=1,\n",
    "                      trainable=True))\n",
    "\n",
    "    len(embedall)\n",
    "\n",
    "    input1 = Input(shape=(X_train.shape[1], )) #模型的入口,设置输入的维度\n",
    "    embedl=[]\n",
    "    for i in range(len(embedall)):\n",
    "        embedl.append(Input(shape=(1,)))\n",
    "\n",
    "    l=[]\n",
    "    for i in range(len(embedl)):\n",
    "        l.append(embedall[i](embedl[i]))\n",
    "\n",
    "    embedcat=Concatenate()(l)\n",
    "\n",
    "    embedcat=Dense(128,activation=\"relu\")(embedcat)\n",
    "\n",
    "    floatdense=Dense(128)(input1)\n",
    "    embedcatnew=Flatten()(embedcat)\n",
    "\n",
    "    last=Concatenate()([embedcatnew,floatdense])\n",
    "    output1=Dense(128)(last)\n",
    "    output = Dense(5, activation='softmax')(output1)#softmax层\n",
    "\n",
    "    model = Model(inputs=[input1]+embedl, outputs=output)\n",
    "    model.compile(loss='sparse_categorical_crossentropy', optimizer='adam', metrics=['accuracy'])#定义损失函数，优化器，评分标准\n",
    "    model.summary()\n",
    "    return model"
   ]
  },
  {
   "cell_type": "code",
   "execution_count": 10,
   "metadata": {
    "ExecuteTime": {
     "end_time": "2021-12-21T13:36:13.932180Z",
     "start_time": "2021-12-21T13:36:05.522704Z"
    }
   },
   "outputs": [
    {
     "name": "stdout",
     "output_type": "stream",
     "text": [
      "fold 0 start\n",
      "WARNING:tensorflow:From /Users/kongmiao/opt/anaconda3/lib/python3.7/site-packages/tensorflow/python/keras/initializers.py:119: calling RandomUniform.__init__ (from tensorflow.python.ops.init_ops) with dtype is deprecated and will be removed in a future version.\n",
      "Instructions for updating:\n",
      "Call initializer instance with the dtype argument instead of passing it to the constructor\n",
      "WARNING:tensorflow:From /Users/kongmiao/opt/anaconda3/lib/python3.7/site-packages/tensorflow/python/ops/init_ops.py:1251: calling VarianceScaling.__init__ (from tensorflow.python.ops.init_ops) with dtype is deprecated and will be removed in a future version.\n",
      "Instructions for updating:\n",
      "Call initializer instance with the dtype argument instead of passing it to the constructor\n",
      "Model: \"model\"\n",
      "__________________________________________________________________________________________________\n",
      "Layer (type)                    Output Shape         Param #     Connected to                     \n",
      "==================================================================================================\n",
      "input_2 (InputLayer)            [(None, 1)]          0                                            \n",
      "__________________________________________________________________________________________________\n",
      "input_3 (InputLayer)            [(None, 1)]          0                                            \n",
      "__________________________________________________________________________________________________\n",
      "embedding (Embedding)           (None, 1, 128)       12800       input_2[0][0]                    \n",
      "__________________________________________________________________________________________________\n",
      "embedding_1 (Embedding)         (None, 1, 128)       12800       input_3[0][0]                    \n",
      "__________________________________________________________________________________________________\n",
      "concatenate (Concatenate)       (None, 1, 256)       0           embedding[0][0]                  \n",
      "                                                                 embedding_1[0][0]                \n",
      "__________________________________________________________________________________________________\n",
      "dense (Dense)                   (None, 1, 128)       32896       concatenate[0][0]                \n",
      "__________________________________________________________________________________________________\n",
      "input_1 (InputLayer)            [(None, 7)]          0                                            \n",
      "__________________________________________________________________________________________________\n",
      "flatten (Flatten)               (None, 128)          0           dense[0][0]                      \n",
      "__________________________________________________________________________________________________\n",
      "dense_1 (Dense)                 (None, 128)          1024        input_1[0][0]                    \n",
      "__________________________________________________________________________________________________\n",
      "concatenate_1 (Concatenate)     (None, 256)          0           flatten[0][0]                    \n",
      "                                                                 dense_1[0][0]                    \n",
      "__________________________________________________________________________________________________\n",
      "dense_2 (Dense)                 (None, 128)          32896       concatenate_1[0][0]              \n",
      "__________________________________________________________________________________________________\n",
      "dense_3 (Dense)                 (None, 5)            645         dense_2[0][0]                    \n",
      "==================================================================================================\n",
      "Total params: 93,061\n",
      "Trainable params: 93,061\n",
      "Non-trainable params: 0\n",
      "__________________________________________________________________________________________________\n",
      "Train on 3701 samples, validate on 926 samples\n",
      "Epoch 1/20\n",
      "3701/3701 [==============================] - 1s 232us/sample - loss: 1.3465 - acc: 0.3902 - val_loss: 1.3094 - val_acc: 0.4093\n",
      "Epoch 2/20\n",
      "3701/3701 [==============================] - 0s 129us/sample - loss: 1.3293 - acc: 0.3926 - val_loss: 1.3052 - val_acc: 0.3855\n",
      "Epoch 3/20\n",
      "3701/3701 [==============================] - 1s 145us/sample - loss: 1.3240 - acc: 0.4072 - val_loss: 1.3028 - val_acc: 0.3844\n",
      "Epoch 4/20\n",
      "3701/3701 [==============================] - 1s 141us/sample - loss: 1.3241 - acc: 0.3972 - val_loss: 1.3026 - val_acc: 0.4082\n",
      "Epoch 5/20\n",
      "3701/3701 [==============================] - 0s 125us/sample - loss: 1.3220 - acc: 0.4021 - val_loss: 1.3113 - val_acc: 0.4093\n",
      "Epoch 6/20\n",
      "3701/3701 [==============================] - 1s 138us/sample - loss: 1.3226 - acc: 0.4039 - val_loss: 1.3070 - val_acc: 0.4082\n",
      "Epoch 7/20\n",
      "3701/3701 [==============================] - 0s 133us/sample - loss: 1.3208 - acc: 0.4075 - val_loss: 1.3046 - val_acc: 0.4082\n",
      "Epoch 8/20\n",
      "3701/3701 [==============================] - 1s 145us/sample - loss: 1.3213 - acc: 0.4072 - val_loss: 1.3027 - val_acc: 0.4093\n",
      "Epoch 9/20\n",
      "3701/3701 [==============================] - 0s 132us/sample - loss: 1.3167 - acc: 0.4026 - val_loss: 1.3020 - val_acc: 0.4082\n",
      "Epoch 10/20\n",
      "3701/3701 [==============================] - 0s 133us/sample - loss: 1.3205 - acc: 0.4045 - val_loss: 1.3075 - val_acc: 0.4082\n",
      "Epoch 11/20\n",
      "3701/3701 [==============================] - 0s 119us/sample - loss: 1.3175 - acc: 0.4053 - val_loss: 1.3017 - val_acc: 0.4093\n",
      "Epoch 12/20\n",
      "3701/3701 [==============================] - 0s 130us/sample - loss: 1.3171 - acc: 0.4066 - val_loss: 1.3026 - val_acc: 0.4082\n",
      "Epoch 13/20\n",
      "3701/3701 [==============================] - 0s 106us/sample - loss: 1.3165 - acc: 0.4066 - val_loss: 1.3046 - val_acc: 0.4093\n",
      "Epoch 14/20\n",
      "3701/3701 [==============================] - 0s 103us/sample - loss: 1.3165 - acc: 0.4050 - val_loss: 1.3011 - val_acc: 0.4082\n",
      "Epoch 15/20\n",
      "3701/3701 [==============================] - 0s 126us/sample - loss: 1.3168 - acc: 0.4077 - val_loss: 1.3000 - val_acc: 0.4082\n",
      "Epoch 16/20\n",
      "3701/3701 [==============================] - 1s 156us/sample - loss: 1.3165 - acc: 0.4069 - val_loss: 1.3023 - val_acc: 0.4082\n",
      "Epoch 17/20\n",
      "3701/3701 [==============================] - 1s 172us/sample - loss: 1.3185 - acc: 0.4091 - val_loss: 1.3014 - val_acc: 0.4093\n",
      "Epoch 18/20\n",
      "3701/3701 [==============================] - 1s 199us/sample - loss: 1.3165 - acc: 0.4042 - val_loss: 1.3008 - val_acc: 0.4093\n",
      "Epoch 19/20\n",
      "3701/3701 [==============================] - 1s 154us/sample - loss: 1.3161 - acc: 0.4034 - val_loss: 1.3119 - val_acc: 0.4093\n",
      "Epoch 20/20\n",
      "3701/3701 [==============================] - 0s 130us/sample - loss: 1.3177 - acc: 0.4069 - val_loss: 1.3004 - val_acc: 0.4082\n"
     ]
    },
    {
     "name": "stderr",
     "output_type": "stream",
     "text": [
      "/Users/kongmiao/opt/anaconda3/lib/python3.7/site-packages/sklearn/metrics/_classification.py:1248: UndefinedMetricWarning: Precision is ill-defined and being set to 0.0 in labels with no predicted samples. Use `zero_division` parameter to control this behavior.\n",
      "  _warn_prf(average, modifier, msg_start, len(result))\n",
      "/Users/kongmiao/opt/anaconda3/lib/python3.7/site-packages/sklearn/metrics/_classification.py:1248: UndefinedMetricWarning: Precision and F-score are ill-defined and being set to 0.0 in labels with no predicted samples. Use `zero_division` parameter to control this behavior.\n",
      "  _warn_prf(average, modifier, msg_start, len(result))\n",
      "/Users/kongmiao/opt/anaconda3/lib/python3.7/site-packages/sklearn/metrics/_classification.py:1248: UndefinedMetricWarning: Precision and F-score are ill-defined and being set to 0.0 in labels with no predicted samples. Use `zero_division` parameter to control this behavior.\n",
      "  _warn_prf(average, modifier, msg_start, len(result))\n",
      "/Users/kongmiao/opt/anaconda3/lib/python3.7/site-packages/sklearn/metrics/_classification.py:1248: UndefinedMetricWarning: Precision and F-score are ill-defined and being set to 0.0 in labels with no predicted samples. Use `zero_division` parameter to control this behavior.\n",
      "  _warn_prf(average, modifier, msg_start, len(result))\n",
      "/Users/kongmiao/opt/anaconda3/lib/python3.7/site-packages/sklearn/metrics/_classification.py:1248: UndefinedMetricWarning: Precision is ill-defined and being set to 0.0 in labels with no predicted samples. Use `zero_division` parameter to control this behavior.\n",
      "  _warn_prf(average, modifier, msg_start, len(result))\n",
      "/Users/kongmiao/opt/anaconda3/lib/python3.7/site-packages/sklearn/metrics/_classification.py:1248: UndefinedMetricWarning: Precision and F-score are ill-defined and being set to 0.0 in labels with no predicted samples. Use `zero_division` parameter to control this behavior.\n",
      "  _warn_prf(average, modifier, msg_start, len(result))\n",
      "/Users/kongmiao/opt/anaconda3/lib/python3.7/site-packages/sklearn/metrics/_classification.py:1248: UndefinedMetricWarning: Precision and F-score are ill-defined and being set to 0.0 in labels with no predicted samples. Use `zero_division` parameter to control this behavior.\n",
      "  _warn_prf(average, modifier, msg_start, len(result))\n",
      "/Users/kongmiao/opt/anaconda3/lib/python3.7/site-packages/sklearn/metrics/_classification.py:1248: UndefinedMetricWarning: Precision and F-score are ill-defined and being set to 0.0 in labels with no predicted samples. Use `zero_division` parameter to control this behavior.\n",
      "  _warn_prf(average, modifier, msg_start, len(result))\n"
     ]
    },
    {
     "name": "stdout",
     "output_type": "stream",
     "text": [
      "fold_1 acc: 0.40928725701943847 precision: 0.25016415762456523 recall : 0.2824699781866985 ,mac f1: 0.26240481130828874 ,mic f1: 0.40928725701943847\n",
      "test reprot:                precision    recall  f1-score   support\n",
      "\n",
      "           0     0.0000    0.0000    0.0000        18\n",
      "           1     0.0000    0.0000    0.0000       103\n",
      "           2     0.3407    0.4779    0.3978       226\n",
      "           3     0.4060    0.5034    0.4495       296\n",
      "           4     0.5041    0.4311    0.4648       283\n",
      "\n",
      "    accuracy                         0.4093       926\n",
      "   macro avg     0.2502    0.2825    0.2624       926\n",
      "weighted avg     0.3670    0.4093    0.3828       926\n",
      "\n",
      "fold_2 train_acc: 0.40934882464198863 train_precision: 0.25084296447775234 train_recall : 0.2830261704964525,mac f1: 0.26325712517722827 ,mic f1: 0.40934882464198863\n",
      "train reprot:                precision    recall  f1-score   support\n",
      "\n",
      "           0     0.0000    0.0000    0.0000        86\n",
      "           1     0.0000    0.0000    0.0000       394\n",
      "           2     0.3492    0.4963    0.4100       945\n",
      "           3     0.3984    0.4761    0.4338      1149\n",
      "           4     0.5066    0.4428    0.4725      1127\n",
      "\n",
      "    accuracy                         0.4093      3701\n",
      "   macro avg     0.2508    0.2830    0.2633      3701\n",
      "weighted avg     0.3671    0.4093    0.3832      3701\n",
      "\n",
      "fold 2 start\n",
      "Model: \"model_1\"\n",
      "__________________________________________________________________________________________________\n",
      "Layer (type)                    Output Shape         Param #     Connected to                     \n",
      "==================================================================================================\n",
      "input_5 (InputLayer)            [(None, 1)]          0                                            \n",
      "__________________________________________________________________________________________________\n",
      "input_6 (InputLayer)            [(None, 1)]          0                                            \n",
      "__________________________________________________________________________________________________\n",
      "embedding_2 (Embedding)         (None, 1, 128)       12800       input_5[0][0]                    \n",
      "__________________________________________________________________________________________________\n",
      "embedding_3 (Embedding)         (None, 1, 128)       12800       input_6[0][0]                    \n",
      "__________________________________________________________________________________________________\n",
      "concatenate_2 (Concatenate)     (None, 1, 256)       0           embedding_2[0][0]                \n",
      "                                                                 embedding_3[0][0]                \n",
      "__________________________________________________________________________________________________\n",
      "dense_4 (Dense)                 (None, 1, 128)       32896       concatenate_2[0][0]              \n",
      "__________________________________________________________________________________________________\n",
      "input_4 (InputLayer)            [(None, 7)]          0                                            \n",
      "__________________________________________________________________________________________________\n",
      "flatten_1 (Flatten)             (None, 128)          0           dense_4[0][0]                    \n",
      "__________________________________________________________________________________________________\n",
      "dense_5 (Dense)                 (None, 128)          1024        input_4[0][0]                    \n",
      "__________________________________________________________________________________________________\n",
      "concatenate_3 (Concatenate)     (None, 256)          0           flatten_1[0][0]                  \n",
      "                                                                 dense_5[0][0]                    \n",
      "__________________________________________________________________________________________________\n",
      "dense_6 (Dense)                 (None, 128)          32896       concatenate_3[0][0]              \n",
      "__________________________________________________________________________________________________\n",
      "dense_7 (Dense)                 (None, 5)            645         dense_6[0][0]                    \n",
      "==================================================================================================\n",
      "Total params: 93,061\n",
      "Trainable params: 93,061\n",
      "Non-trainable params: 0\n",
      "__________________________________________________________________________________________________\n",
      "Train on 3701 samples, validate on 926 samples\n",
      "Epoch 1/20\n",
      "3701/3701 [==============================] - 1s 270us/sample - loss: 1.3458 - acc: 0.3731 - val_loss: 1.3167 - val_acc: 0.4158\n",
      "Epoch 2/20\n",
      "3701/3701 [==============================] - 1s 135us/sample - loss: 1.3265 - acc: 0.3912 - val_loss: 1.3064 - val_acc: 0.4147\n",
      "Epoch 3/20\n",
      "3701/3701 [==============================] - 0s 120us/sample - loss: 1.3247 - acc: 0.3985 - val_loss: 1.3073 - val_acc: 0.4158\n",
      "Epoch 4/20\n",
      "3701/3701 [==============================] - 1s 148us/sample - loss: 1.3211 - acc: 0.3991 - val_loss: 1.3116 - val_acc: 0.4158\n",
      "Epoch 5/20\n",
      "3701/3701 [==============================] - 1s 136us/sample - loss: 1.3201 - acc: 0.4031 - val_loss: 1.3110 - val_acc: 0.4125\n",
      "Epoch 6/20\n",
      "3701/3701 [==============================] - 1s 156us/sample - loss: 1.3180 - acc: 0.3999 - val_loss: 1.3122 - val_acc: 0.4158\n",
      "Epoch 7/20\n",
      "3701/3701 [==============================] - 1s 137us/sample - loss: 1.3164 - acc: 0.4023 - val_loss: 1.3111 - val_acc: 0.4158\n",
      "Epoch 8/20\n",
      "3701/3701 [==============================] - 0s 126us/sample - loss: 1.3188 - acc: 0.4056 - val_loss: 1.3059 - val_acc: 0.4201\n",
      "Epoch 9/20\n",
      "3701/3701 [==============================] - 0s 124us/sample - loss: 1.3179 - acc: 0.3964 - val_loss: 1.3078 - val_acc: 0.4147\n",
      "Epoch 10/20\n",
      "3701/3701 [==============================] - 0s 132us/sample - loss: 1.3167 - acc: 0.4034 - val_loss: 1.3179 - val_acc: 0.4158\n",
      "Epoch 11/20\n",
      "3701/3701 [==============================] - 1s 135us/sample - loss: 1.3175 - acc: 0.4042 - val_loss: 1.3125 - val_acc: 0.4201\n",
      "Epoch 12/20\n",
      "3701/3701 [==============================] - 1s 140us/sample - loss: 1.3170 - acc: 0.4072 - val_loss: 1.3112 - val_acc: 0.4006\n",
      "Epoch 13/20\n",
      "3701/3701 [==============================] - 1s 136us/sample - loss: 1.3169 - acc: 0.3980 - val_loss: 1.3109 - val_acc: 0.4158\n",
      "Epoch 14/20\n",
      "3701/3701 [==============================] - 1s 136us/sample - loss: 1.3166 - acc: 0.4053 - val_loss: 1.3119 - val_acc: 0.4158\n",
      "Epoch 15/20\n",
      "3701/3701 [==============================] - 1s 144us/sample - loss: 1.3162 - acc: 0.4031 - val_loss: 1.3032 - val_acc: 0.4158\n",
      "Epoch 16/20\n",
      "3701/3701 [==============================] - 1s 138us/sample - loss: 1.3166 - acc: 0.4004 - val_loss: 1.3152 - val_acc: 0.4158\n",
      "Epoch 17/20\n",
      "3701/3701 [==============================] - 1s 139us/sample - loss: 1.3161 - acc: 0.4037 - val_loss: 1.3048 - val_acc: 0.4158\n",
      "Epoch 18/20\n",
      "3701/3701 [==============================] - 1s 136us/sample - loss: 1.3152 - acc: 0.4026 - val_loss: 1.3076 - val_acc: 0.4158\n",
      "Epoch 19/20\n",
      "3701/3701 [==============================] - 0s 130us/sample - loss: 1.3161 - acc: 0.4023 - val_loss: 1.3034 - val_acc: 0.4158\n",
      "Epoch 20/20\n",
      "3701/3701 [==============================] - 0s 128us/sample - loss: 1.3148 - acc: 0.4050 - val_loss: 1.3117 - val_acc: 0.4201\n",
      "fold_1 acc: 0.4200863930885529 precision: 0.3226526710133568 recall : 0.3201997152920355 ,mac f1: 0.32053689224203374 ,mic f1: 0.42008639308855283\n",
      "test reprot:                precision    recall  f1-score   support\n",
      "\n",
      "           0     0.0000    0.0000    0.0000        15\n",
      "           1     0.3587    0.3028    0.3284       109\n",
      "           2     0.3350    0.3163    0.3254       215\n",
      "           3     0.4249    0.4820    0.4516       305\n",
      "           4     0.4947    0.5000    0.4974       282\n",
      "\n",
      "    accuracy                         0.4201       926\n",
      "   macro avg     0.3227    0.3202    0.3205       926\n",
      "weighted avg     0.4106    0.4201    0.4144       926\n",
      "\n",
      "fold_2 train_acc: 0.4047554714941908 train_precision: 0.31013773923236715 train_recall : 0.3116965114076765,mac f1: 0.3092474618965765 ,mic f1: 0.4047554714941907\n"
     ]
    },
    {
     "name": "stderr",
     "output_type": "stream",
     "text": [
      "/Users/kongmiao/opt/anaconda3/lib/python3.7/site-packages/sklearn/metrics/_classification.py:1248: UndefinedMetricWarning: Precision is ill-defined and being set to 0.0 in labels with no predicted samples. Use `zero_division` parameter to control this behavior.\n",
      "  _warn_prf(average, modifier, msg_start, len(result))\n",
      "/Users/kongmiao/opt/anaconda3/lib/python3.7/site-packages/sklearn/metrics/_classification.py:1248: UndefinedMetricWarning: Precision and F-score are ill-defined and being set to 0.0 in labels with no predicted samples. Use `zero_division` parameter to control this behavior.\n",
      "  _warn_prf(average, modifier, msg_start, len(result))\n",
      "/Users/kongmiao/opt/anaconda3/lib/python3.7/site-packages/sklearn/metrics/_classification.py:1248: UndefinedMetricWarning: Precision and F-score are ill-defined and being set to 0.0 in labels with no predicted samples. Use `zero_division` parameter to control this behavior.\n",
      "  _warn_prf(average, modifier, msg_start, len(result))\n",
      "/Users/kongmiao/opt/anaconda3/lib/python3.7/site-packages/sklearn/metrics/_classification.py:1248: UndefinedMetricWarning: Precision and F-score are ill-defined and being set to 0.0 in labels with no predicted samples. Use `zero_division` parameter to control this behavior.\n",
      "  _warn_prf(average, modifier, msg_start, len(result))\n",
      "/Users/kongmiao/opt/anaconda3/lib/python3.7/site-packages/sklearn/metrics/_classification.py:1248: UndefinedMetricWarning: Precision is ill-defined and being set to 0.0 in labels with no predicted samples. Use `zero_division` parameter to control this behavior.\n",
      "  _warn_prf(average, modifier, msg_start, len(result))\n",
      "/Users/kongmiao/opt/anaconda3/lib/python3.7/site-packages/sklearn/metrics/_classification.py:1248: UndefinedMetricWarning: Precision and F-score are ill-defined and being set to 0.0 in labels with no predicted samples. Use `zero_division` parameter to control this behavior.\n",
      "  _warn_prf(average, modifier, msg_start, len(result))\n",
      "/Users/kongmiao/opt/anaconda3/lib/python3.7/site-packages/sklearn/metrics/_classification.py:1248: UndefinedMetricWarning: Precision and F-score are ill-defined and being set to 0.0 in labels with no predicted samples. Use `zero_division` parameter to control this behavior.\n",
      "  _warn_prf(average, modifier, msg_start, len(result))\n",
      "/Users/kongmiao/opt/anaconda3/lib/python3.7/site-packages/sklearn/metrics/_classification.py:1248: UndefinedMetricWarning: Precision and F-score are ill-defined and being set to 0.0 in labels with no predicted samples. Use `zero_division` parameter to control this behavior.\n",
      "  _warn_prf(average, modifier, msg_start, len(result))\n"
     ]
    },
    {
     "name": "stdout",
     "output_type": "stream",
     "text": [
      "train reprot:                precision    recall  f1-score   support\n",
      "\n",
      "           0     0.0000    0.0000    0.0000        89\n",
      "           1     0.2793    0.2706    0.2749       388\n",
      "           2     0.3680    0.3808    0.3743       956\n",
      "           3     0.3938    0.4816    0.4333      1140\n",
      "           4     0.5096    0.4255    0.4638      1128\n",
      "\n",
      "    accuracy                         0.4048      3701\n",
      "   macro avg     0.3101    0.3117    0.3092      3701\n",
      "weighted avg     0.4010    0.4048    0.4003      3701\n",
      "\n",
      "fold 2 start\n",
      "Model: \"model_2\"\n",
      "__________________________________________________________________________________________________\n",
      "Layer (type)                    Output Shape         Param #     Connected to                     \n",
      "==================================================================================================\n",
      "input_8 (InputLayer)            [(None, 1)]          0                                            \n",
      "__________________________________________________________________________________________________\n",
      "input_9 (InputLayer)            [(None, 1)]          0                                            \n",
      "__________________________________________________________________________________________________\n",
      "embedding_4 (Embedding)         (None, 1, 128)       12800       input_8[0][0]                    \n",
      "__________________________________________________________________________________________________\n",
      "embedding_5 (Embedding)         (None, 1, 128)       12800       input_9[0][0]                    \n",
      "__________________________________________________________________________________________________\n",
      "concatenate_4 (Concatenate)     (None, 1, 256)       0           embedding_4[0][0]                \n",
      "                                                                 embedding_5[0][0]                \n",
      "__________________________________________________________________________________________________\n",
      "dense_8 (Dense)                 (None, 1, 128)       32896       concatenate_4[0][0]              \n",
      "__________________________________________________________________________________________________\n",
      "input_7 (InputLayer)            [(None, 7)]          0                                            \n",
      "__________________________________________________________________________________________________\n",
      "flatten_2 (Flatten)             (None, 128)          0           dense_8[0][0]                    \n",
      "__________________________________________________________________________________________________\n",
      "dense_9 (Dense)                 (None, 128)          1024        input_7[0][0]                    \n",
      "__________________________________________________________________________________________________\n",
      "concatenate_5 (Concatenate)     (None, 256)          0           flatten_2[0][0]                  \n",
      "                                                                 dense_9[0][0]                    \n",
      "__________________________________________________________________________________________________\n",
      "dense_10 (Dense)                (None, 128)          32896       concatenate_5[0][0]              \n",
      "__________________________________________________________________________________________________\n",
      "dense_11 (Dense)                (None, 5)            645         dense_10[0][0]                   \n",
      "==================================================================================================\n",
      "Total params: 93,061\n",
      "Trainable params: 93,061\n",
      "Non-trainable params: 0\n",
      "__________________________________________________________________________________________________\n",
      "Train on 3702 samples, validate on 925 samples\n",
      "Epoch 1/20\n",
      "3702/3702 [==============================] - 1s 215us/sample - loss: 1.3438 - acc: 0.3855 - val_loss: 1.3282 - val_acc: 0.4043\n",
      "Epoch 2/20\n",
      "3702/3702 [==============================] - 0s 111us/sample - loss: 1.3222 - acc: 0.3974 - val_loss: 1.3184 - val_acc: 0.4043\n",
      "Epoch 3/20\n",
      "3702/3702 [==============================] - 0s 120us/sample - loss: 1.3215 - acc: 0.4052 - val_loss: 1.3174 - val_acc: 0.3881\n",
      "Epoch 4/20\n",
      "3702/3702 [==============================] - 0s 113us/sample - loss: 1.3171 - acc: 0.4041 - val_loss: 1.3275 - val_acc: 0.4043\n",
      "Epoch 5/20\n",
      "3702/3702 [==============================] - 0s 112us/sample - loss: 1.3170 - acc: 0.4073 - val_loss: 1.3171 - val_acc: 0.4043\n",
      "Epoch 6/20\n",
      "3702/3702 [==============================] - 0s 119us/sample - loss: 1.3174 - acc: 0.4060 - val_loss: 1.3290 - val_acc: 0.3989\n",
      "Epoch 7/20\n",
      "3702/3702 [==============================] - 0s 112us/sample - loss: 1.3146 - acc: 0.4079 - val_loss: 1.3397 - val_acc: 0.3308\n",
      "Epoch 8/20\n",
      "3702/3702 [==============================] - 0s 111us/sample - loss: 1.3162 - acc: 0.4049 - val_loss: 1.3197 - val_acc: 0.3989\n",
      "Epoch 9/20\n",
      "3702/3702 [==============================] - 0s 117us/sample - loss: 1.3152 - acc: 0.4087 - val_loss: 1.3286 - val_acc: 0.3870\n",
      "Epoch 10/20\n",
      "3702/3702 [==============================] - 0s 110us/sample - loss: 1.3183 - acc: 0.4109 - val_loss: 1.3186 - val_acc: 0.3989\n",
      "Epoch 11/20\n",
      "3702/3702 [==============================] - 0s 105us/sample - loss: 1.3142 - acc: 0.4060 - val_loss: 1.3224 - val_acc: 0.4043\n",
      "Epoch 12/20\n",
      "3702/3702 [==============================] - 0s 105us/sample - loss: 1.3149 - acc: 0.4114 - val_loss: 1.3150 - val_acc: 0.3989\n",
      "Epoch 13/20\n",
      "3702/3702 [==============================] - 0s 103us/sample - loss: 1.3156 - acc: 0.4087 - val_loss: 1.3140 - val_acc: 0.3989\n",
      "Epoch 14/20\n",
      "3702/3702 [==============================] - 0s 103us/sample - loss: 1.3122 - acc: 0.4095 - val_loss: 1.3159 - val_acc: 0.4043\n",
      "Epoch 15/20\n",
      "3702/3702 [==============================] - 0s 103us/sample - loss: 1.3146 - acc: 0.4095 - val_loss: 1.3177 - val_acc: 0.4043\n",
      "Epoch 16/20\n",
      "3702/3702 [==============================] - 0s 104us/sample - loss: 1.3123 - acc: 0.4084 - val_loss: 1.3180 - val_acc: 0.4043\n",
      "Epoch 17/20\n",
      "3702/3702 [==============================] - 0s 104us/sample - loss: 1.3136 - acc: 0.4100 - val_loss: 1.3180 - val_acc: 0.3989\n",
      "Epoch 18/20\n",
      "3702/3702 [==============================] - 0s 103us/sample - loss: 1.3151 - acc: 0.4114 - val_loss: 1.3173 - val_acc: 0.4043\n",
      "Epoch 19/20\n",
      "3702/3702 [==============================] - 0s 111us/sample - loss: 1.3138 - acc: 0.4092 - val_loss: 1.3256 - val_acc: 0.4043\n",
      "Epoch 20/20\n",
      "3702/3702 [==============================] - 0s 105us/sample - loss: 1.3129 - acc: 0.4098 - val_loss: 1.3150 - val_acc: 0.4043\n",
      "fold_1 acc: 0.4043243243243243 precision: 0.2475938390564268 recall : 0.2809815386304053 ,mac f1: 0.26118110053008003 ,mic f1: 0.4043243243243243\n",
      "test reprot:                precision    recall  f1-score   support\n",
      "\n",
      "           0     0.0000    0.0000    0.0000        26\n",
      "           1     0.0000    0.0000    0.0000        98\n",
      "           2     0.3652    0.5101    0.4257       247\n",
      "           3     0.3591    0.4234    0.3886       274\n",
      "           4     0.5136    0.4714    0.4916       280\n",
      "\n",
      "    accuracy                         0.4043       925\n",
      "   macro avg     0.2476    0.2810    0.2612       925\n",
      "weighted avg     0.3594    0.4043    0.3776       925\n",
      "\n"
     ]
    },
    {
     "name": "stderr",
     "output_type": "stream",
     "text": [
      "/Users/kongmiao/opt/anaconda3/lib/python3.7/site-packages/sklearn/metrics/_classification.py:1248: UndefinedMetricWarning: Precision is ill-defined and being set to 0.0 in labels with no predicted samples. Use `zero_division` parameter to control this behavior.\n",
      "  _warn_prf(average, modifier, msg_start, len(result))\n",
      "/Users/kongmiao/opt/anaconda3/lib/python3.7/site-packages/sklearn/metrics/_classification.py:1248: UndefinedMetricWarning: Precision and F-score are ill-defined and being set to 0.0 in labels with no predicted samples. Use `zero_division` parameter to control this behavior.\n",
      "  _warn_prf(average, modifier, msg_start, len(result))\n",
      "/Users/kongmiao/opt/anaconda3/lib/python3.7/site-packages/sklearn/metrics/_classification.py:1248: UndefinedMetricWarning: Precision and F-score are ill-defined and being set to 0.0 in labels with no predicted samples. Use `zero_division` parameter to control this behavior.\n",
      "  _warn_prf(average, modifier, msg_start, len(result))\n",
      "/Users/kongmiao/opt/anaconda3/lib/python3.7/site-packages/sklearn/metrics/_classification.py:1248: UndefinedMetricWarning: Precision and F-score are ill-defined and being set to 0.0 in labels with no predicted samples. Use `zero_division` parameter to control this behavior.\n",
      "  _warn_prf(average, modifier, msg_start, len(result))\n",
      "/Users/kongmiao/opt/anaconda3/lib/python3.7/site-packages/sklearn/metrics/_classification.py:1248: UndefinedMetricWarning: Precision is ill-defined and being set to 0.0 in labels with no predicted samples. Use `zero_division` parameter to control this behavior.\n",
      "  _warn_prf(average, modifier, msg_start, len(result))\n",
      "/Users/kongmiao/opt/anaconda3/lib/python3.7/site-packages/sklearn/metrics/_classification.py:1248: UndefinedMetricWarning: Precision and F-score are ill-defined and being set to 0.0 in labels with no predicted samples. Use `zero_division` parameter to control this behavior.\n",
      "  _warn_prf(average, modifier, msg_start, len(result))\n",
      "/Users/kongmiao/opt/anaconda3/lib/python3.7/site-packages/sklearn/metrics/_classification.py:1248: UndefinedMetricWarning: Precision and F-score are ill-defined and being set to 0.0 in labels with no predicted samples. Use `zero_division` parameter to control this behavior.\n",
      "  _warn_prf(average, modifier, msg_start, len(result))\n",
      "/Users/kongmiao/opt/anaconda3/lib/python3.7/site-packages/sklearn/metrics/_classification.py:1248: UndefinedMetricWarning: Precision and F-score are ill-defined and being set to 0.0 in labels with no predicted samples. Use `zero_division` parameter to control this behavior.\n",
      "  _warn_prf(average, modifier, msg_start, len(result))\n"
     ]
    },
    {
     "name": "stdout",
     "output_type": "stream",
     "text": [
      "fold_2 train_acc: 0.4105888708806051 train_precision: 0.25128098919898034 train_recall : 0.2832283521239334,mac f1: 0.26335905406782023 ,mic f1: 0.4105888708806051\n",
      "train reprot:                precision    recall  f1-score   support\n",
      "\n",
      "           0     0.0000    0.0000    0.0000        78\n",
      "           1     0.0000    0.0000    0.0000       399\n",
      "           2     0.3430    0.4881    0.4029       924\n",
      "           3     0.4093    0.4953    0.4482      1171\n",
      "           4     0.5041    0.4327    0.4657      1130\n",
      "\n",
      "    accuracy                         0.4106      3702\n",
      "   macro avg     0.2513    0.2832    0.2634      3702\n",
      "weighted avg     0.3690    0.4106    0.3845      3702\n",
      "\n",
      "fold 2 start\n",
      "Model: \"model_3\"\n",
      "__________________________________________________________________________________________________\n",
      "Layer (type)                    Output Shape         Param #     Connected to                     \n",
      "==================================================================================================\n",
      "input_11 (InputLayer)           [(None, 1)]          0                                            \n",
      "__________________________________________________________________________________________________\n",
      "input_12 (InputLayer)           [(None, 1)]          0                                            \n",
      "__________________________________________________________________________________________________\n",
      "embedding_6 (Embedding)         (None, 1, 128)       12800       input_11[0][0]                   \n",
      "__________________________________________________________________________________________________\n",
      "embedding_7 (Embedding)         (None, 1, 128)       12800       input_12[0][0]                   \n",
      "__________________________________________________________________________________________________\n",
      "concatenate_6 (Concatenate)     (None, 1, 256)       0           embedding_6[0][0]                \n",
      "                                                                 embedding_7[0][0]                \n",
      "__________________________________________________________________________________________________\n",
      "dense_12 (Dense)                (None, 1, 128)       32896       concatenate_6[0][0]              \n",
      "__________________________________________________________________________________________________\n",
      "input_10 (InputLayer)           [(None, 7)]          0                                            \n",
      "__________________________________________________________________________________________________\n",
      "flatten_3 (Flatten)             (None, 128)          0           dense_12[0][0]                   \n",
      "__________________________________________________________________________________________________\n",
      "dense_13 (Dense)                (None, 128)          1024        input_10[0][0]                   \n",
      "__________________________________________________________________________________________________\n",
      "concatenate_7 (Concatenate)     (None, 256)          0           flatten_3[0][0]                  \n",
      "                                                                 dense_13[0][0]                   \n",
      "__________________________________________________________________________________________________\n",
      "dense_14 (Dense)                (None, 128)          32896       concatenate_7[0][0]              \n",
      "__________________________________________________________________________________________________\n",
      "dense_15 (Dense)                (None, 5)            645         dense_14[0][0]                   \n",
      "==================================================================================================\n",
      "Total params: 93,061\n",
      "Trainable params: 93,061\n",
      "Non-trainable params: 0\n",
      "__________________________________________________________________________________________________\n",
      "Train on 3702 samples, validate on 925 samples\n",
      "Epoch 1/20\n",
      "3702/3702 [==============================] - 1s 231us/sample - loss: 1.3436 - acc: 0.3949 - val_loss: 1.3306 - val_acc: 0.3784\n",
      "Epoch 2/20\n",
      "3702/3702 [==============================] - 0s 110us/sample - loss: 1.3243 - acc: 0.4022 - val_loss: 1.3122 - val_acc: 0.4043\n",
      "Epoch 3/20\n",
      "3702/3702 [==============================] - 0s 108us/sample - loss: 1.3213 - acc: 0.4017 - val_loss: 1.3200 - val_acc: 0.3795\n",
      "Epoch 4/20\n",
      "3702/3702 [==============================] - 0s 110us/sample - loss: 1.3201 - acc: 0.4022 - val_loss: 1.3096 - val_acc: 0.4086\n",
      "Epoch 5/20\n",
      "3702/3702 [==============================] - 0s 108us/sample - loss: 1.3180 - acc: 0.4060 - val_loss: 1.3240 - val_acc: 0.4032\n",
      "Epoch 6/20\n",
      "3702/3702 [==============================] - 0s 105us/sample - loss: 1.3197 - acc: 0.4033 - val_loss: 1.3211 - val_acc: 0.3730\n",
      "Epoch 7/20\n",
      "3702/3702 [==============================] - 0s 105us/sample - loss: 1.3189 - acc: 0.4098 - val_loss: 1.3095 - val_acc: 0.4043\n",
      "Epoch 8/20\n",
      "3702/3702 [==============================] - 0s 106us/sample - loss: 1.3161 - acc: 0.4044 - val_loss: 1.3098 - val_acc: 0.4032\n",
      "Epoch 9/20\n",
      "3702/3702 [==============================] - 0s 106us/sample - loss: 1.3173 - acc: 0.4071 - val_loss: 1.3101 - val_acc: 0.4032\n",
      "Epoch 10/20\n",
      "3702/3702 [==============================] - 0s 107us/sample - loss: 1.3146 - acc: 0.4087 - val_loss: 1.3056 - val_acc: 0.4043\n",
      "Epoch 11/20\n",
      "3702/3702 [==============================] - 0s 107us/sample - loss: 1.3150 - acc: 0.4052 - val_loss: 1.3093 - val_acc: 0.4043\n",
      "Epoch 12/20\n",
      "3702/3702 [==============================] - 0s 111us/sample - loss: 1.3153 - acc: 0.4065 - val_loss: 1.3122 - val_acc: 0.4043\n",
      "Epoch 13/20\n",
      "3702/3702 [==============================] - 0s 108us/sample - loss: 1.3166 - acc: 0.4044 - val_loss: 1.3108 - val_acc: 0.4043\n",
      "Epoch 14/20\n",
      "3702/3702 [==============================] - 0s 107us/sample - loss: 1.3144 - acc: 0.4079 - val_loss: 1.3050 - val_acc: 0.4086\n",
      "Epoch 15/20\n",
      "3702/3702 [==============================] - 0s 106us/sample - loss: 1.3164 - acc: 0.4071 - val_loss: 1.3092 - val_acc: 0.4076\n",
      "Epoch 16/20\n",
      "3702/3702 [==============================] - 0s 106us/sample - loss: 1.3149 - acc: 0.4003 - val_loss: 1.3077 - val_acc: 0.4032\n",
      "Epoch 17/20\n",
      "3702/3702 [==============================] - 0s 107us/sample - loss: 1.3146 - acc: 0.4090 - val_loss: 1.3101 - val_acc: 0.4043\n",
      "Epoch 18/20\n",
      "3702/3702 [==============================] - 0s 115us/sample - loss: 1.3153 - acc: 0.4063 - val_loss: 1.3081 - val_acc: 0.4043\n",
      "Epoch 19/20\n",
      "3702/3702 [==============================] - 0s 106us/sample - loss: 1.3144 - acc: 0.4111 - val_loss: 1.3076 - val_acc: 0.4043\n",
      "Epoch 20/20\n",
      "3702/3702 [==============================] - 0s 107us/sample - loss: 1.3152 - acc: 0.4068 - val_loss: 1.3048 - val_acc: 0.4032\n"
     ]
    },
    {
     "name": "stderr",
     "output_type": "stream",
     "text": [
      "/Users/kongmiao/opt/anaconda3/lib/python3.7/site-packages/sklearn/metrics/_classification.py:1248: UndefinedMetricWarning: Precision is ill-defined and being set to 0.0 in labels with no predicted samples. Use `zero_division` parameter to control this behavior.\n",
      "  _warn_prf(average, modifier, msg_start, len(result))\n",
      "/Users/kongmiao/opt/anaconda3/lib/python3.7/site-packages/sklearn/metrics/_classification.py:1248: UndefinedMetricWarning: Precision and F-score are ill-defined and being set to 0.0 in labels with no predicted samples. Use `zero_division` parameter to control this behavior.\n",
      "  _warn_prf(average, modifier, msg_start, len(result))\n",
      "/Users/kongmiao/opt/anaconda3/lib/python3.7/site-packages/sklearn/metrics/_classification.py:1248: UndefinedMetricWarning: Precision and F-score are ill-defined and being set to 0.0 in labels with no predicted samples. Use `zero_division` parameter to control this behavior.\n",
      "  _warn_prf(average, modifier, msg_start, len(result))\n",
      "/Users/kongmiao/opt/anaconda3/lib/python3.7/site-packages/sklearn/metrics/_classification.py:1248: UndefinedMetricWarning: Precision and F-score are ill-defined and being set to 0.0 in labels with no predicted samples. Use `zero_division` parameter to control this behavior.\n",
      "  _warn_prf(average, modifier, msg_start, len(result))\n",
      "/Users/kongmiao/opt/anaconda3/lib/python3.7/site-packages/sklearn/metrics/_classification.py:1248: UndefinedMetricWarning: Precision is ill-defined and being set to 0.0 in labels with no predicted samples. Use `zero_division` parameter to control this behavior.\n",
      "  _warn_prf(average, modifier, msg_start, len(result))\n",
      "/Users/kongmiao/opt/anaconda3/lib/python3.7/site-packages/sklearn/metrics/_classification.py:1248: UndefinedMetricWarning: Precision and F-score are ill-defined and being set to 0.0 in labels with no predicted samples. Use `zero_division` parameter to control this behavior.\n",
      "  _warn_prf(average, modifier, msg_start, len(result))\n",
      "/Users/kongmiao/opt/anaconda3/lib/python3.7/site-packages/sklearn/metrics/_classification.py:1248: UndefinedMetricWarning: Precision and F-score are ill-defined and being set to 0.0 in labels with no predicted samples. Use `zero_division` parameter to control this behavior.\n",
      "  _warn_prf(average, modifier, msg_start, len(result))\n",
      "/Users/kongmiao/opt/anaconda3/lib/python3.7/site-packages/sklearn/metrics/_classification.py:1248: UndefinedMetricWarning: Precision and F-score are ill-defined and being set to 0.0 in labels with no predicted samples. Use `zero_division` parameter to control this behavior.\n",
      "  _warn_prf(average, modifier, msg_start, len(result))\n"
     ]
    },
    {
     "name": "stdout",
     "output_type": "stream",
     "text": [
      "fold_1 acc: 0.40864864864864864 precision: 0.32227199109221577 recall : 0.3195956404938588 ,mac f1: 0.3182795677542932 ,mic f1: 0.40864864864864864\n",
      "test reprot:                precision    recall  f1-score   support\n",
      "\n",
      "           0     0.0000    0.0000    0.0000        22\n",
      "           1     0.3333    0.3043    0.3182        92\n",
      "           2     0.3895    0.4211    0.4047       247\n",
      "           3     0.3750    0.4698    0.4171       281\n",
      "           4     0.5135    0.4028    0.4515       283\n",
      "\n",
      "    accuracy                         0.4086       925\n",
      "   macro avg     0.3223    0.3196    0.3183       925\n",
      "weighted avg     0.4082    0.4086    0.4045       925\n",
      "\n",
      "fold_2 train_acc: 0.4081577525661804 train_precision: 0.30996871190896474 train_recall : 0.3068052404094324,mac f1: 0.3063561220885715 ,mic f1: 0.4081577525661804\n",
      "train reprot:                precision    recall  f1-score   support\n",
      "\n",
      "           0     0.0000    0.0000    0.0000        82\n",
      "           1     0.2880    0.2198    0.2493       405\n",
      "           2     0.3510    0.3799    0.3649       924\n",
      "           3     0.4063    0.4845    0.4420      1164\n",
      "           4     0.5045    0.4499    0.4756      1127\n",
      "\n",
      "    accuracy                         0.4082      3702\n",
      "   macro avg     0.3100    0.3068    0.3064      3702\n",
      "weighted avg     0.4005    0.4082    0.4021      3702\n",
      "\n",
      "fold 2 start\n",
      "Model: \"model_4\"\n",
      "__________________________________________________________________________________________________\n",
      "Layer (type)                    Output Shape         Param #     Connected to                     \n",
      "==================================================================================================\n",
      "input_14 (InputLayer)           [(None, 1)]          0                                            \n",
      "__________________________________________________________________________________________________\n",
      "input_15 (InputLayer)           [(None, 1)]          0                                            \n",
      "__________________________________________________________________________________________________\n",
      "embedding_8 (Embedding)         (None, 1, 128)       12800       input_14[0][0]                   \n",
      "__________________________________________________________________________________________________\n",
      "embedding_9 (Embedding)         (None, 1, 128)       12800       input_15[0][0]                   \n",
      "__________________________________________________________________________________________________\n",
      "concatenate_8 (Concatenate)     (None, 1, 256)       0           embedding_8[0][0]                \n",
      "                                                                 embedding_9[0][0]                \n",
      "__________________________________________________________________________________________________\n",
      "dense_16 (Dense)                (None, 1, 128)       32896       concatenate_8[0][0]              \n",
      "__________________________________________________________________________________________________\n",
      "input_13 (InputLayer)           [(None, 7)]          0                                            \n",
      "__________________________________________________________________________________________________\n",
      "flatten_4 (Flatten)             (None, 128)          0           dense_16[0][0]                   \n",
      "__________________________________________________________________________________________________\n",
      "dense_17 (Dense)                (None, 128)          1024        input_13[0][0]                   \n",
      "__________________________________________________________________________________________________\n",
      "concatenate_9 (Concatenate)     (None, 256)          0           flatten_4[0][0]                  \n",
      "                                                                 dense_17[0][0]                   \n",
      "__________________________________________________________________________________________________\n",
      "dense_18 (Dense)                (None, 128)          32896       concatenate_9[0][0]              \n",
      "__________________________________________________________________________________________________\n",
      "dense_19 (Dense)                (None, 5)            645         dense_18[0][0]                   \n",
      "==================================================================================================\n",
      "Total params: 93,061\n",
      "Trainable params: 93,061\n",
      "Non-trainable params: 0\n",
      "__________________________________________________________________________________________________\n",
      "Train on 3702 samples, validate on 925 samples\n",
      "Epoch 1/20\n",
      "3702/3702 [==============================] - 1s 257us/sample - loss: 1.3374 - acc: 0.3817 - val_loss: 1.3525 - val_acc: 0.4130\n",
      "Epoch 2/20\n",
      "3702/3702 [==============================] - 0s 111us/sample - loss: 1.3231 - acc: 0.3960 - val_loss: 1.3394 - val_acc: 0.3524\n",
      "Epoch 3/20\n",
      "3702/3702 [==============================] - 0s 109us/sample - loss: 1.3133 - acc: 0.3922 - val_loss: 1.3379 - val_acc: 0.4032\n",
      "Epoch 4/20\n",
      "3702/3702 [==============================] - 0s 108us/sample - loss: 1.3182 - acc: 0.4052 - val_loss: 1.3271 - val_acc: 0.4130\n",
      "Epoch 5/20\n",
      "3702/3702 [==============================] - 0s 110us/sample - loss: 1.3151 - acc: 0.4030 - val_loss: 1.3311 - val_acc: 0.4130\n",
      "Epoch 6/20\n",
      "3702/3702 [==============================] - 0s 111us/sample - loss: 1.3127 - acc: 0.4038 - val_loss: 1.3307 - val_acc: 0.4130\n",
      "Epoch 7/20\n",
      "3702/3702 [==============================] - 0s 111us/sample - loss: 1.3103 - acc: 0.4065 - val_loss: 1.3390 - val_acc: 0.4000\n",
      "Epoch 8/20\n",
      "3702/3702 [==============================] - 0s 108us/sample - loss: 1.3127 - acc: 0.4071 - val_loss: 1.3301 - val_acc: 0.4032\n",
      "Epoch 9/20\n",
      "3702/3702 [==============================] - 0s 111us/sample - loss: 1.3108 - acc: 0.4041 - val_loss: 1.3335 - val_acc: 0.4032\n",
      "Epoch 10/20\n",
      "3702/3702 [==============================] - 0s 113us/sample - loss: 1.3116 - acc: 0.4036 - val_loss: 1.3389 - val_acc: 0.4032\n",
      "Epoch 11/20\n",
      "3702/3702 [==============================] - 0s 113us/sample - loss: 1.3104 - acc: 0.4038 - val_loss: 1.3370 - val_acc: 0.4000\n",
      "Epoch 12/20\n",
      "3702/3702 [==============================] - 0s 112us/sample - loss: 1.3123 - acc: 0.4028 - val_loss: 1.3294 - val_acc: 0.4000\n",
      "Epoch 13/20\n",
      "3702/3702 [==============================] - 0s 110us/sample - loss: 1.3107 - acc: 0.4100 - val_loss: 1.3434 - val_acc: 0.4130\n",
      "Epoch 14/20\n",
      "3702/3702 [==============================] - 0s 111us/sample - loss: 1.3114 - acc: 0.4087 - val_loss: 1.3333 - val_acc: 0.4130\n",
      "Epoch 15/20\n",
      "3702/3702 [==============================] - 0s 110us/sample - loss: 1.3101 - acc: 0.4049 - val_loss: 1.3306 - val_acc: 0.4000\n",
      "Epoch 16/20\n",
      "3702/3702 [==============================] - 0s 111us/sample - loss: 1.3107 - acc: 0.4052 - val_loss: 1.3300 - val_acc: 0.4130\n",
      "Epoch 17/20\n",
      "3702/3702 [==============================] - 0s 112us/sample - loss: 1.3094 - acc: 0.4082 - val_loss: 1.3321 - val_acc: 0.4032\n",
      "Epoch 18/20\n",
      "3702/3702 [==============================] - 0s 112us/sample - loss: 1.3097 - acc: 0.4071 - val_loss: 1.3315 - val_acc: 0.4097\n",
      "Epoch 19/20\n",
      "3702/3702 [==============================] - 0s 111us/sample - loss: 1.3093 - acc: 0.4073 - val_loss: 1.3284 - val_acc: 0.4097\n",
      "Epoch 20/20\n",
      "3702/3702 [==============================] - 0s 108us/sample - loss: 1.3104 - acc: 0.4071 - val_loss: 1.3304 - val_acc: 0.4097\n",
      "fold_1 acc: 0.412972972972973 precision: 0.25476655697243933 recall : 0.28462293553216034 ,mac f1: 0.2641895092771293 ,mic f1: 0.412972972972973\n",
      "test reprot:                precision    recall  f1-score   support\n",
      "\n",
      "           0     0.0000    0.0000    0.0000        23\n",
      "           1     0.0000    0.0000    0.0000        95\n",
      "           2     0.3352    0.5000    0.4014       236\n",
      "           3     0.4318    0.5260    0.4743       289\n",
      "           4     0.5068    0.3972    0.4453       282\n",
      "\n",
      "    accuracy                         0.4130       925\n",
      "   macro avg     0.2548    0.2846    0.2642       925\n",
      "weighted avg     0.3749    0.4130    0.3863       925\n",
      "\n",
      "fold_2 train_acc: 0.40842787682333875 train_precision: 0.2497624963278521 train_recall : 0.2825476921909963,mac f1: 0.26279693523229636 ,mic f1: 0.40842787682333875\n",
      "train reprot:                precision    recall  f1-score   support\n",
      "\n",
      "           0     0.0000    0.0000    0.0000        81\n",
      "           1     0.0000    0.0000    0.0000       402\n",
      "           2     0.3509    0.4909    0.4093       935\n",
      "           3     0.3919    0.4706    0.4277      1156\n",
      "           4     0.5060    0.4512    0.4770      1128\n",
      "\n",
      "    accuracy                         0.4084      3702\n",
      "   macro avg     0.2498    0.2825    0.2628      3702\n",
      "weighted avg     0.3652    0.4084    0.3823      3702\n",
      "\n",
      "max acc:0.4200863930885529\n",
      "min acc:0.4043243243243243\n",
      "mean acc:0.41106391921078744\n",
      "max precision:0.3226526710133568\n",
      "min precision:0.2475938390564268\n",
      "mean precision:0.2794898431518008\n",
      "max recall:0.3201997152920355\n",
      "min recall:0.2809815386304053\n",
      "mean recall:0.2975739616270317\n",
      "max mac f1:0.32053689224203374\n",
      "min mac f1:0.26118110053008003\n",
      "mean mac f1:0.285318376222365\n",
      "max mic f1:0.42008639308855283\n",
      "min mic f1:0.4043243243243243\n",
      "mean mic f1:0.41106391921078744\n",
      "train max acc:0.4105888708806051\n",
      "train min acc:0.4047554714941908\n",
      "train mean acc:0.40825575928126073\n",
      "train max precision:0.31013773923236715\n",
      "train min precision:0.2497624963278521\n",
      "train mean precision:0.2743985802291834\n",
      "train max recall:0.3116965114076765\n",
      "train min recall:0.2825476921909963\n",
      "train mean recall:0.29346079332569824\n",
      "train max mac f1:0.3092474618965765\n",
      "train min mac f1:0.26279693523229636\n",
      "train mean mac f1:0.2810033396924986\n",
      "train max mic f1:0.4105888708806051\n",
      "train min mic f1:0.4047554714941907\n",
      "train mean mic f1:0.40825575928126073\n"
     ]
    },
    {
     "name": "stderr",
     "output_type": "stream",
     "text": [
      "/Users/kongmiao/opt/anaconda3/lib/python3.7/site-packages/sklearn/metrics/_classification.py:1248: UndefinedMetricWarning: Precision is ill-defined and being set to 0.0 in labels with no predicted samples. Use `zero_division` parameter to control this behavior.\n",
      "  _warn_prf(average, modifier, msg_start, len(result))\n",
      "/Users/kongmiao/opt/anaconda3/lib/python3.7/site-packages/sklearn/metrics/_classification.py:1248: UndefinedMetricWarning: Precision and F-score are ill-defined and being set to 0.0 in labels with no predicted samples. Use `zero_division` parameter to control this behavior.\n",
      "  _warn_prf(average, modifier, msg_start, len(result))\n",
      "/Users/kongmiao/opt/anaconda3/lib/python3.7/site-packages/sklearn/metrics/_classification.py:1248: UndefinedMetricWarning: Precision and F-score are ill-defined and being set to 0.0 in labels with no predicted samples. Use `zero_division` parameter to control this behavior.\n",
      "  _warn_prf(average, modifier, msg_start, len(result))\n",
      "/Users/kongmiao/opt/anaconda3/lib/python3.7/site-packages/sklearn/metrics/_classification.py:1248: UndefinedMetricWarning: Precision and F-score are ill-defined and being set to 0.0 in labels with no predicted samples. Use `zero_division` parameter to control this behavior.\n",
      "  _warn_prf(average, modifier, msg_start, len(result))\n",
      "/Users/kongmiao/opt/anaconda3/lib/python3.7/site-packages/sklearn/metrics/_classification.py:1248: UndefinedMetricWarning: Precision is ill-defined and being set to 0.0 in labels with no predicted samples. Use `zero_division` parameter to control this behavior.\n",
      "  _warn_prf(average, modifier, msg_start, len(result))\n",
      "/Users/kongmiao/opt/anaconda3/lib/python3.7/site-packages/sklearn/metrics/_classification.py:1248: UndefinedMetricWarning: Precision and F-score are ill-defined and being set to 0.0 in labels with no predicted samples. Use `zero_division` parameter to control this behavior.\n",
      "  _warn_prf(average, modifier, msg_start, len(result))\n",
      "/Users/kongmiao/opt/anaconda3/lib/python3.7/site-packages/sklearn/metrics/_classification.py:1248: UndefinedMetricWarning: Precision and F-score are ill-defined and being set to 0.0 in labels with no predicted samples. Use `zero_division` parameter to control this behavior.\n",
      "  _warn_prf(average, modifier, msg_start, len(result))\n",
      "/Users/kongmiao/opt/anaconda3/lib/python3.7/site-packages/sklearn/metrics/_classification.py:1248: UndefinedMetricWarning: Precision and F-score are ill-defined and being set to 0.0 in labels with no predicted samples. Use `zero_division` parameter to control this behavior.\n",
      "  _warn_prf(average, modifier, msg_start, len(result))\n"
     ]
    }
   ],
   "source": [
    "from sklearn import metrics\n",
    "recal_all=[]\n",
    "pre_all=[]\n",
    "f1_all=[]\n",
    "acc_all=[]\n",
    "f1_micro=[]\n",
    "\n",
    "t_recal_all=[]\n",
    "t_pre_all=[]\n",
    "t_f1_all=[]\n",
    "t_acc_all=[]\n",
    "t_f1_micro=[]\n",
    "k=5\n",
    "kf = KFold(n_splits=k, shuffle=True)\n",
    "#     tmppre=np.zeros(y.shape)\n",
    "ind=0\n",
    "for (train, test) in  kf.split(df.values):\n",
    "        print (\"fold\",ind,\"start\")\n",
    "        X_train=df.values[train]\n",
    "        y_train=label.values[train]\n",
    "        emd_train=dfemd.values[train]\n",
    "        emd_test=dfemd.values[test]\n",
    "        train_all=[]\n",
    "        train_all.append(X_train)\n",
    "        for ind in range(emd_train.shape[1]):\n",
    "            train_all.append(np.expand_dims(emd_train[:,ind],axis=1))\n",
    "            \n",
    "       \n",
    "        X_test=df.values[test]\n",
    "        testall=[]\n",
    "        testall.append(X_test)\n",
    "        for ind in range(emd_test.shape[1]):\n",
    "            testall.append(np.expand_dims(emd_test[:,ind],axis=1))\n",
    "#         break\n",
    "        y_test=label.values[test]\n",
    "        X_train=X_train.reshape(X_train.shape[0],X_train.shape[1])\n",
    "        X_test=X_test.reshape(X_test.shape[0],X_test.shape[1])\n",
    "        \n",
    "        callbacks = [EarlyStopping(monitor='val_acc', verbose=1, patience=1000),\n",
    "             ModelCheckpoint(\"model_wide_class_{}.hdf5\".format(ind), monitor='val_acc',\n",
    "                             mode='max', verbose=0, save_best_only=True,save_weights_only=True)]\n",
    "        model_new = get_deep_wide_net()\n",
    "\n",
    "        model_new.fit(train_all, y_train, epochs=20, batch_size=16, validation_data=(testall, y_test) ,callbacks=callbacks)\n",
    "        model_new.load_weights(\"model_wide_class_{}.hdf5\".format(ind)) #加载最优模型\n",
    "        ypre=np.argmax(model_new.predict(testall),axis=-1)\n",
    "        tmpacc=accuracy_score(y_test,ypre)\n",
    "        tmppre=precision_score(y_test,ypre,average=\"macro\")\n",
    "        tmprecal=recall_score(y_test,ypre,average=\"macro\")\n",
    "        tmpf1=f1_score(y_test,ypre,average=\"macro\")\n",
    "        tmpf1_mic=f1_score(y_test,ypre,average=\"micro\")\n",
    "        print (\"fold_{} acc: {} precision: {} recall : {} ,mac f1: {} ,mic f1: {}\".format(ind,tmpacc,tmppre,tmprecal,tmpf1,tmpf1_mic))\n",
    "        print (\"test reprot: \",classification_report(y_test,ypre,digits=4))\n",
    "        recal_all.append(tmprecal)\n",
    "        acc_all.append(tmpacc)\n",
    "        f1_all.append(tmpf1)\n",
    "        pre_all.append(tmppre)\n",
    "        f1_micro.append(tmpf1_mic)\n",
    "        ind+=1\n",
    "\n",
    "        ypre=np.argmax(model_new.predict(train_all),axis=-1)\n",
    "        tmpacc=accuracy_score(y_train,ypre)\n",
    "        tmppre=precision_score(y_train,ypre,average=\"macro\")\n",
    "        tmprecal=recall_score(y_train,ypre,average=\"macro\")\n",
    "        tmpf1=f1_score(y_train,ypre,average=\"macro\")\n",
    "        tmpf1_mic=f1_score(y_train,ypre,average=\"micro\")\n",
    "        print (\"fold_{} train_acc: {} train_precision: {} train_recall : {},mac f1: {} ,mic f1: {}\".format(ind,tmpacc,tmppre,tmprecal,tmpf1,tmpf1_mic))\n",
    "        print (\"train reprot: \",classification_report(y_train,ypre,digits=4))\n",
    "        t_recal_all.append(tmprecal)\n",
    "        t_acc_all.append(tmpacc)\n",
    "        t_f1_all.append(tmpf1)\n",
    "        t_pre_all.append(tmppre)\n",
    "        t_f1_micro.append(tmpf1_mic)\n",
    "    \n",
    "print (\"max acc:{}\".format(max(acc_all)))\n",
    "print (\"min acc:{}\".format(min(acc_all)))\n",
    "print (\"mean acc:{}\".format(sum(acc_all)/5))\n",
    "\n",
    "\n",
    "print (\"max precision:{}\".format(max(pre_all)))\n",
    "print (\"min precision:{}\".format(min(pre_all)))\n",
    "print (\"mean precision:{}\".format(sum(pre_all)/5))\n",
    "\n",
    "print (\"max recall:{}\".format(max(recal_all)))\n",
    "print (\"min recall:{}\".format(min(recal_all)))\n",
    "print (\"mean recall:{}\".format(sum(recal_all)/5))\n",
    "\n",
    "\n",
    "\n",
    "print (\"max mac f1:{}\".format(max(f1_all)))\n",
    "print (\"min mac f1:{}\".format(min(f1_all)))\n",
    "print (\"mean mac f1:{}\".format(sum(f1_all)/5))\n",
    "\n",
    "print (\"max mic f1:{}\".format(max(f1_micro)))\n",
    "print (\"min mic f1:{}\".format(min(f1_micro)))\n",
    "print (\"mean mic f1:{}\".format(sum(f1_micro)/5))\n",
    "\n",
    "\n",
    "print (\"train max acc:{}\".format(max(t_acc_all)))\n",
    "print (\"train min acc:{}\".format(min(t_acc_all)))\n",
    "print (\"train mean acc:{}\".format(sum(t_acc_all)/5))\n",
    "\n",
    "\n",
    "\n",
    "print (\"train max precision:{}\".format(max(t_pre_all)))\n",
    "print (\"train min precision:{}\".format(min(t_pre_all)))\n",
    "print (\"train mean precision:{}\".format(sum(t_pre_all)/5))\n",
    "\n",
    "\n",
    "print (\"train max recall:{}\".format(max(t_recal_all)))\n",
    "print (\"train min recall:{}\".format(min(t_recal_all)))\n",
    "print (\"train mean recall:{}\".format(sum(t_recal_all)/5))\n",
    "\n",
    "\n",
    "print (\"train max mac f1:{}\".format(max(t_f1_all)))\n",
    "print (\"train min mac f1:{}\".format(min(t_f1_all)))\n",
    "print (\"train mean mac f1:{}\".format(sum(t_f1_all)/5))\n",
    "\n",
    "\n",
    "print (\"train max mic f1:{}\".format(max(t_f1_micro)))\n",
    "print (\"train min mic f1:{}\".format(min(t_f1_micro)))\n",
    "print (\"train mean mic f1:{}\".format(sum(t_f1_micro)/5))"
   ]
  },
  {
   "cell_type": "code",
   "execution_count": 11,
   "metadata": {
    "ExecuteTime": {
     "end_time": "2021-12-21T13:36:18.080346Z",
     "start_time": "2021-12-21T13:36:18.077889Z"
    }
   },
   "outputs": [],
   "source": [
    "import random"
   ]
  },
  {
   "cell_type": "code",
   "execution_count": 12,
   "metadata": {
    "ExecuteTime": {
     "end_time": "2021-12-21T13:36:18.490646Z",
     "start_time": "2021-12-21T13:36:18.360715Z"
    }
   },
   "outputs": [],
   "source": [
    "#model_new.load_weights(\"model_wide_class_{}.hdf5\".format(ind))"
   ]
  },
  {
   "cell_type": "code",
   "execution_count": 13,
   "metadata": {
    "ExecuteTime": {
     "end_time": "2021-12-21T13:36:18.639944Z",
     "start_time": "2021-12-21T13:36:18.583827Z"
    }
   },
   "outputs": [],
   "source": [
    "from tqdm import tqdm\n",
    "def get_important(col=\"gender\",M=100,I=100):\n",
    "    \n",
    "    sumall=[]\n",
    "    for num in tqdm(range(I)):\n",
    "        num_fea=colname.index(col)+1\n",
    "        for i in random.sample(list(range(len(train_all))),1):  # (1)随机采样一条样本xi\n",
    "        #     print (i)\n",
    "            xi=[]\n",
    "            for j in range(len(train_all)):\n",
    "                xi.append(train_all[j][i:i+1])\n",
    "        tmp1=[]\n",
    "        for i in range(M):\n",
    "            for i in random.sample(list(range(len(train_all))),1): #(2)随机采样一条样本z\n",
    "        #         print (i)\n",
    "                z=[]\n",
    "                for j in range(len(train_all)):\n",
    "                    z.append(train_all[j][i:i+1])\n",
    "            shutuf=random.sample(list(range(len(colname))),len(colname)) #(3)随机采样1到n排列 \n",
    "\n",
    "            x_=[xi[0]]+list(np.array(xi[1:])[shutuf])#（4）\n",
    "            z_=[z[0]]+list(np.array(z[1:])[shutuf])#(5)\n",
    "\n",
    "            x_1=x_[:1+num_fea]+z_[1+num_fea:]\n",
    "            x_2=x_[:num_fea]+z_[num_fea:] #(6)\n",
    "\n",
    "        #     print (abs(np.mean(model_new.predict(x_1)-model_new.predict(x_2),axis=1)[0])) #(7)\n",
    "            tmp1.append(abs(model_new.predict(x_1)-model_new.predict(x_2)))\n",
    "        sumall.append(tmp1)\n",
    "    return np.mean(np.array(sumall),axis=0)[0]"
   ]
  },
  {
   "cell_type": "code",
   "execution_count": 14,
   "metadata": {
    "ExecuteTime": {
     "end_time": "2021-12-21T13:36:25.482371Z",
     "start_time": "2021-12-21T13:36:19.076673Z"
    }
   },
   "outputs": [
    {
     "name": "stderr",
     "output_type": "stream",
     "text": [
      "100%|██████████| 40/40 [00:05<00:00,  7.25it/s]\n",
      "100%|██████████| 40/40 [00:05<00:00,  7.50it/s]\n"
     ]
    }
   ],
   "source": [
    "fea_import=[]\n",
    "for col in colname:\n",
    "    tmp=get_important(col,M=40,I=40)\n",
    "    fea_import.append(tmp)"
   ]
  },
  {
   "cell_type": "code",
   "execution_count": 15,
   "metadata": {
    "ExecuteTime": {
     "end_time": "2021-12-21T13:36:28.739305Z",
     "start_time": "2021-12-21T13:36:28.734651Z"
    }
   },
   "outputs": [],
   "source": [
    "dfnew=pd.DataFrame(np.squeeze(np.array(fea_import)))\n",
    "dfnew.columns=[str(i)+\"_Importance\" for  i in [1,2,3,4,5]]"
   ]
  },
  {
   "cell_type": "code",
   "execution_count": 16,
   "metadata": {
    "ExecuteTime": {
     "end_time": "2021-12-21T13:36:28.899834Z",
     "start_time": "2021-12-21T13:36:28.896219Z"
    }
   },
   "outputs": [],
   "source": [
    "dfnew.index=colname"
   ]
  },
  {
   "cell_type": "code",
   "execution_count": 17,
   "metadata": {
    "ExecuteTime": {
     "end_time": "2021-12-21T13:36:29.066202Z",
     "start_time": "2021-12-21T13:36:29.062484Z"
    }
   },
   "outputs": [],
   "source": [
    "dfnew=dfnew[:-1]"
   ]
  },
  {
   "cell_type": "code",
   "execution_count": 18,
   "metadata": {
    "ExecuteTime": {
     "end_time": "2021-12-21T13:36:35.106367Z",
     "start_time": "2021-12-21T13:36:33.349549Z"
    }
   },
   "outputs": [
    {
     "data": {
      "image/png": "[encoded data removed]",
      "text/plain": [
       "<Figure size 720x720 with 2 Axes>"
      ]
     },
     "metadata": {
      "needs_background": "light"
     },
     "output_type": "display_data"
    }
   ],
   "source": [
    "import matplotlib.pyplot as plt\n",
    "import seaborn as sns\n",
    "\n",
    "import matplotlib.pyplot as plt\n",
    "plt.rcParams['font.sans-serif'] = ['Arial Unicode MS']\n",
    "plt.rcParams['font.size'] = '14'\n",
    "plt.figure(figsize=(10,10))\n",
    "sns.heatmap(data=dfnew,linewidths=1,annot=True,cmap=\"GnBu\",fmt=\".5f\")\n",
    "plt.savefig(\"2.9宽深-value情绪.png\",dpi=300)"
   ]
  },
  {
   "cell_type": "code",
   "execution_count": 19,
   "metadata": {},
   "outputs": [
    {
     "data": {
      "image/png": "[encoded data removed]",
      "text/plain": [
       "<Figure size 720x720 with 2 Axes>"
      ]
     },
     "metadata": {
      "needs_background": "light"
     },
     "output_type": "display_data"
    }
   ],
   "source": [
    "dfnew=dfnew.sort_values(by=\"3_Importance\",ascending=False)\n",
    "dfnew=dfnew[:10]\n",
    "plt.figure(figsize=(10,10))\n",
    "sns.heatmap(data=dfnew,linewidths=1,annot=True,cmap=\"GnBu\",fmt=\".5f\")\n",
    "plt.savefig(\"2.9宽深value_排序前10个情绪.png\",dpi=300)"
   ]
  },
  {
   "cell_type": "code",
   "execution_count": 20,
   "metadata": {},
   "outputs": [
    {
     "data": {
      "image/png": "[encoded data removed]",
      "text/plain": [
       "<Figure size 720x720 with 2 Axes>"
      ]
     },
     "metadata": {
      "needs_background": "light"
     },
     "output_type": "display_data"
    }
   ],
   "source": [
    "dfnew=dfnew.sort_values(by=\"3_Importance\",ascending=False)\n",
    "dfnew=dfnew[:10]\n",
    "plt.figure(figsize=(10,10))\n",
    "sns.heatmap(data=dfnew,linewidths=1,annot=True,cmap=\"GnBu\",fmt=\".5f\")\n",
    "plt.savefig(\"2.9宽深value_排序前10个情绪.pdf\",dpi=300)"
   ]
  },
  {
   "cell_type": "code",
   "execution_count": 21,
   "metadata": {},
   "outputs": [
    {
     "data": {
      "image/png": "[encoded data removed]",
      "text/plain": [
       "<Figure size 720x720 with 2 Axes>"
      ]
     },
     "metadata": {
      "needs_background": "light"
     },
     "output_type": "display_data"
    }
   ],
   "source": [
    "dfnew=dfnew.sort_values(by=\"3_Importance\",ascending=False)\n",
    "dfnew=dfnew[:5]\n",
    "plt.figure(figsize=(10,10))\n",
    "sns.heatmap(data=dfnew,linewidths=1,annot=True,cmap=\"GnBu\",fmt=\".5f\")\n",
    "plt.savefig(\"2.9宽深value_排序前5个情绪.png\",dpi=300)"
   ]
  },
  {
   "cell_type": "code",
   "execution_count": 22,
   "metadata": {},
   "outputs": [
    {
     "data": {
      "image/png": "[encoded data removed]",
      "text/plain": [
       "<Figure size 720x720 with 2 Axes>"
      ]
     },
     "metadata": {
      "needs_background": "light"
     },
     "output_type": "display_data"
    }
   ],
   "source": [
    "dfnew=dfnew.sort_values(by=\"3_Importance\",ascending=False)\n",
    "dfnew=dfnew[:5]\n",
    "plt.figure(figsize=(10,10))\n",
    "sns.heatmap(data=dfnew,linewidths=1,annot=True,cmap=\"GnBu\",fmt=\".5f\")\n",
    "plt.savefig(\"2.9宽深value_排序前5个情绪.pdf\",dpi=300)"
   ]
  },
  {
   "cell_type": "code",
   "execution_count": null,
   "metadata": {},
   "outputs": [],
   "source": []
  },
  {
   "cell_type": "code",
   "execution_count": null,
   "metadata": {},
   "outputs": [],
   "source": []
  },
  {
   "cell_type": "code",
   "execution_count": null,
   "metadata": {},
   "outputs": [],
   "source": []
  },
  {
   "cell_type": "code",
   "execution_count": null,
   "metadata": {},
   "outputs": [],
   "source": []
  }
 ],
 "metadata": {
  "kernelspec": {
   "display_name": "Python 3",
   "language": "python",
   "name": "python3"
  },
  "language_info": {
   "codemirror_mode": {
    "name": "ipython",
    "version": 3
   },
   "file_extension": ".py",
   "mimetype": "text/x-python",
   "name": "python",
   "nbconvert_exporter": "python",
   "pygments_lexer": "ipython3",
   "version": "3.7.6"
  },
  "toc": {
   "base_numbering": 1,
   "nav_menu": {},
   "number_sections": true,
   "sideBar": true,
   "skip_h1_title": false,
   "title_cell": "Table of Contents",
   "title_sidebar": "Contents",
   "toc_cell": false,
   "toc_position": {},
   "toc_section_display": true,
   "toc_window_display": false
  }
 },
 "nbformat": 4,
 "nbformat_minor": 2
}
