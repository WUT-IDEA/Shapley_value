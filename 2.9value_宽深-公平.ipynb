{
 "cells": [
  {
   "cell_type": "code",
   "execution_count": 1,
   "metadata": {
    "ExecuteTime": {
     "end_time": "2021-12-21T13:36:02.643561Z",
     "start_time": "2021-12-21T13:36:01.829916Z"
    }
   },
   "outputs": [],
   "source": [
    "from sklearn.metrics import accuracy_score,recall_score,precision_score,f1_score"
   ]
  },
  {
   "cell_type": "code",
   "execution_count": 2,
   "metadata": {
    "ExecuteTime": {
     "end_time": "2021-12-21T13:36:02.650148Z",
     "start_time": "2021-12-21T13:36:02.646253Z"
    }
   },
   "outputs": [],
   "source": [
    "from sklearn.metrics import classification_report"
   ]
  },
  {
   "cell_type": "code",
   "execution_count": 3,
   "metadata": {
    "ExecuteTime": {
     "end_time": "2021-12-21T13:36:03.339629Z",
     "start_time": "2021-12-21T13:36:02.652621Z"
    }
   },
   "outputs": [],
   "source": [
    "import pandas as pd\n",
    "df=pd.read_csv(\"source_Xgongping.csv\",encoding=\"utf-8\")\n",
    "\n",
    "df=df.dropna(axis=0)\n"
   ]
  },
  {
   "cell_type": "code",
   "execution_count": 4,
   "metadata": {},
   "outputs": [
    {
     "data": {
      "text/plain": [
       "(8000, 9)"
      ]
     },
     "execution_count": 4,
     "metadata": {},
     "output_type": "execute_result"
    }
   ],
   "source": [
    "df.shape"
   ]
  },
  {
   "cell_type": "code",
   "execution_count": 5,
   "metadata": {
    "ExecuteTime": {
     "end_time": "2021-12-21T13:36:03.418763Z",
     "start_time": "2021-12-21T13:36:03.341630Z"
    }
   },
   "outputs": [],
   "source": [
    "dfnew=pd.read_csv(\"source_y.csv\",encoding=\"utf-8\")\n",
    "\n",
    "df=pd.concat([df,dfnew],axis=1)\n",
    "\n",
    "df[\"happiness\"].value_counts()\n",
    "\n",
    "df[\"happiness\"]=df[\"happiness\"].map({1:0,2:1,3:2,4:3,5:4})\n",
    "df=pd.concat([df[df[\"happiness\"]==3].sample(frac=0.3),df[df[\"happiness\"]!=3]],axis=0)\n",
    "label=df[\"happiness\"]\n",
    "df[\"newcol_1\"]=1\n",
    "df[\"newcol_2\"]=0\n",
    "del df[\"happiness\"]\n",
    "\n",
    "from sklearn.model_selection import train_test_split\n",
    "X_train, X_test, y_train, y_test = train_test_split(df, label, test_size=0.2, random_state=42)"
   ]
  },
  {
   "cell_type": "code",
   "execution_count": 6,
   "metadata": {
    "ExecuteTime": {
     "end_time": "2021-12-21T13:36:03.508207Z",
     "start_time": "2021-12-21T13:36:03.421026Z"
    }
   },
   "outputs": [
    {
     "name": "stdout",
     "output_type": "stream",
     "text": [
      "      equity_1  equity_2  equity_3  equity_4  equity_5\n",
      "3619         1         0         0         0         0\n",
      "654          0         1         0         0         0\n",
      "3762         0         0         0         1         0\n",
      "7829         0         0         0         1         0\n",
      "7458         0         0         0         1         0\n",
      "...        ...       ...       ...       ...       ...\n",
      "7987         0         0         0         1         0\n",
      "7992         0         0         0         1         0\n",
      "7995         0         0         1         0         0\n",
      "7996         0         0         0         1         0\n",
      "7998         0         0         1         0         0\n",
      "\n",
      "[4627 rows x 5 columns]\n",
      "      public_service_cut_1  public_service_cut_2  public_service_cut_3  \\\n",
      "3619                     1                     0                     0   \n",
      "654                      0                     1                     0   \n",
      "3762                     0                     0                     1   \n",
      "7829                     0                     1                     0   \n",
      "7458                     0                     1                     0   \n",
      "...                    ...                   ...                   ...   \n",
      "7987                     0                     0                     1   \n",
      "7992                     1                     0                     0   \n",
      "7995                     1                     0                     0   \n",
      "7996                     0                     0                     1   \n",
      "7998                     0                     1                     0   \n",
      "\n",
      "      public_service_cut_4  \n",
      "3619                     0  \n",
      "654                      0  \n",
      "3762                     0  \n",
      "7829                     0  \n",
      "7458                     0  \n",
      "...                    ...  \n",
      "7987                     0  \n",
      "7992                     0  \n",
      "7995                     0  \n",
      "7996                     0  \n",
      "7998                     0  \n",
      "\n",
      "[4627 rows x 4 columns]\n",
      "      newcol_1  newcol_2\n",
      "3619         1         0\n",
      "654          1         0\n",
      "3762         1         0\n",
      "7829         1         0\n",
      "7458         1         0\n",
      "...        ...       ...\n",
      "7987         1         0\n",
      "7992         1         0\n",
      "7995         1         0\n",
      "7996         1         0\n",
      "7998         1         0\n",
      "\n",
      "[4627 rows x 2 columns]\n"
     ]
    }
   ],
   "source": [
    "col=[]\n",
    "for i in df.columns:\n",
    "    col.append(i.split(\"_\")[0])\n",
    "\n",
    "import numpy as np\n",
    "l=[]\n",
    "first=0\n",
    "last=0\n",
    "colname=[]\n",
    "for ind,i in enumerate(col):\n",
    "    last+=1\n",
    "    if last==len(col):\n",
    "         \n",
    "         print (df[df.columns[first:last]])\n",
    "         colname.append(df.columns[first:last][0][:-2])\n",
    "         l.append(np.argmax(df[df.columns[first:last]].values,axis=1))\n",
    "         break\n",
    "    if col[last]!=col[last-1]:\n",
    "         print (df[df.columns[first:last]])\n",
    "         colname.append(df.columns[first:last][0][:-2])\n",
    "#          print (np.argmax(df[df.columns[first:last]].values,axis=1).max())\n",
    "         l.append(np.argmax(df[df.columns[first:last]].values,axis=1))\n",
    "         first=last\n",
    "         last=last+1\n",
    "         \n",
    "#          break"
   ]
  },
  {
   "cell_type": "code",
   "execution_count": 7,
   "metadata": {},
   "outputs": [
    {
     "data": {
      "text/plain": [
       "['equity', 'public_service_cut', 'newcol']"
      ]
     },
     "execution_count": 7,
     "metadata": {},
     "output_type": "execute_result"
    }
   ],
   "source": [
    "colname"
   ]
  },
  {
   "cell_type": "code",
   "execution_count": 22,
   "metadata": {},
   "outputs": [],
   "source": [
    "colname[1]='public_service'"
   ]
  },
  {
   "cell_type": "code",
   "execution_count": 23,
   "metadata": {},
   "outputs": [
    {
     "data": {
      "text/plain": [
       "['equity', 'public_service', 'newcol']"
      ]
     },
     "execution_count": 23,
     "metadata": {},
     "output_type": "execute_result"
    }
   ],
   "source": [
    "colname"
   ]
  },
  {
   "cell_type": "code",
   "execution_count": 8,
   "metadata": {
    "ExecuteTime": {
     "end_time": "2021-12-21T13:36:05.520207Z",
     "start_time": "2021-12-21T13:36:03.510379Z"
    }
   },
   "outputs": [
    {
     "name": "stderr",
     "output_type": "stream",
     "text": [
      "/Users/kongmiao/opt/anaconda3/lib/python3.7/site-packages/tensorflow/python/framework/dtypes.py:516: FutureWarning: Passing (type, 1) or '1type' as a synonym of type is deprecated; in a future version of numpy, it will be understood as (type, (1,)) / '(1,)type'.\n",
      "  _np_qint8 = np.dtype([(\"qint8\", np.int8, 1)])\n",
      "/Users/kongmiao/opt/anaconda3/lib/python3.7/site-packages/tensorflow/python/framework/dtypes.py:517: FutureWarning: Passing (type, 1) or '1type' as a synonym of type is deprecated; in a future version of numpy, it will be understood as (type, (1,)) / '(1,)type'.\n",
      "  _np_quint8 = np.dtype([(\"quint8\", np.uint8, 1)])\n",
      "/Users/kongmiao/opt/anaconda3/lib/python3.7/site-packages/tensorflow/python/framework/dtypes.py:518: FutureWarning: Passing (type, 1) or '1type' as a synonym of type is deprecated; in a future version of numpy, it will be understood as (type, (1,)) / '(1,)type'.\n",
      "  _np_qint16 = np.dtype([(\"qint16\", np.int16, 1)])\n",
      "/Users/kongmiao/opt/anaconda3/lib/python3.7/site-packages/tensorflow/python/framework/dtypes.py:519: FutureWarning: Passing (type, 1) or '1type' as a synonym of type is deprecated; in a future version of numpy, it will be understood as (type, (1,)) / '(1,)type'.\n",
      "  _np_quint16 = np.dtype([(\"quint16\", np.uint16, 1)])\n",
      "/Users/kongmiao/opt/anaconda3/lib/python3.7/site-packages/tensorflow/python/framework/dtypes.py:520: FutureWarning: Passing (type, 1) or '1type' as a synonym of type is deprecated; in a future version of numpy, it will be understood as (type, (1,)) / '(1,)type'.\n",
      "  _np_qint32 = np.dtype([(\"qint32\", np.int32, 1)])\n",
      "/Users/kongmiao/opt/anaconda3/lib/python3.7/site-packages/tensorflow/python/framework/dtypes.py:525: FutureWarning: Passing (type, 1) or '1type' as a synonym of type is deprecated; in a future version of numpy, it will be understood as (type, (1,)) / '(1,)type'.\n",
      "  np_resource = np.dtype([(\"resource\", np.ubyte, 1)])\n",
      "/Users/kongmiao/opt/anaconda3/lib/python3.7/site-packages/tensorboard/compat/tensorflow_stub/dtypes.py:541: FutureWarning: Passing (type, 1) or '1type' as a synonym of type is deprecated; in a future version of numpy, it will be understood as (type, (1,)) / '(1,)type'.\n",
      "  _np_qint8 = np.dtype([(\"qint8\", np.int8, 1)])\n",
      "/Users/kongmiao/opt/anaconda3/lib/python3.7/site-packages/tensorboard/compat/tensorflow_stub/dtypes.py:542: FutureWarning: Passing (type, 1) or '1type' as a synonym of type is deprecated; in a future version of numpy, it will be understood as (type, (1,)) / '(1,)type'.\n",
      "  _np_quint8 = np.dtype([(\"quint8\", np.uint8, 1)])\n",
      "/Users/kongmiao/opt/anaconda3/lib/python3.7/site-packages/tensorboard/compat/tensorflow_stub/dtypes.py:543: FutureWarning: Passing (type, 1) or '1type' as a synonym of type is deprecated; in a future version of numpy, it will be understood as (type, (1,)) / '(1,)type'.\n",
      "  _np_qint16 = np.dtype([(\"qint16\", np.int16, 1)])\n",
      "/Users/kongmiao/opt/anaconda3/lib/python3.7/site-packages/tensorboard/compat/tensorflow_stub/dtypes.py:544: FutureWarning: Passing (type, 1) or '1type' as a synonym of type is deprecated; in a future version of numpy, it will be understood as (type, (1,)) / '(1,)type'.\n",
      "  _np_quint16 = np.dtype([(\"quint16\", np.uint16, 1)])\n",
      "/Users/kongmiao/opt/anaconda3/lib/python3.7/site-packages/tensorboard/compat/tensorflow_stub/dtypes.py:545: FutureWarning: Passing (type, 1) or '1type' as a synonym of type is deprecated; in a future version of numpy, it will be understood as (type, (1,)) / '(1,)type'.\n",
      "  _np_qint32 = np.dtype([(\"qint32\", np.int32, 1)])\n",
      "/Users/kongmiao/opt/anaconda3/lib/python3.7/site-packages/tensorboard/compat/tensorflow_stub/dtypes.py:550: FutureWarning: Passing (type, 1) or '1type' as a synonym of type is deprecated; in a future version of numpy, it will be understood as (type, (1,)) / '(1,)type'.\n",
      "  np_resource = np.dtype([(\"resource\", np.ubyte, 1)])\n"
     ]
    }
   ],
   "source": [
    "import pandas as pd\n",
    "\n",
    "dfemd=pd.DataFrame()\n",
    "\n",
    "embed_num=[]\n",
    "for ind,i in enumerate(l):\n",
    "    dfemd[ind]=i\n",
    "    embed_num.append(len(dfemd[ind].unique())+2)\n",
    "\n",
    "import tensorflow as tf\n",
    "from tensorflow.keras.layers import *\n",
    "from tensorflow.keras import *\n",
    "import numpy as np\n",
    "import os\n",
    "from tensorflow.keras.callbacks import EarlyStopping, ModelCheckpoint\n",
    "from tensorflow.keras.layers import Dense, Input, Dropout, Bidirectional\n",
    "\n",
    "from tensorflow.keras.models import Model\n",
    "from tensorflow.keras import backend as K\n",
    "import re\n",
    "from tensorflow.keras.callbacks import Callback\n",
    "import tensorflow\n",
    "from tensorflow.keras.models import load_model\n",
    "from sklearn import metrics\n",
    "from sklearn.model_selection import KFold\n",
    "\n",
    "\n",
    "def get_deep_wide_net():\n",
    "    embedall=[]\n",
    "    for ind,i in enumerate(dfemd.columns):\n",
    "         embedall.append(Embedding(100, 128, input_length=1,\n",
    "                      trainable=True))\n",
    "\n",
    "    len(embedall)\n",
    "\n",
    "    input1 = Input(shape=(X_train.shape[1], )) #模型的入口,设置输入的维度\n",
    "    embedl=[]\n",
    "    for i in range(len(embedall)):\n",
    "        embedl.append(Input(shape=(1,)))\n",
    "\n",
    "    l=[]\n",
    "    for i in range(len(embedl)):\n",
    "        l.append(embedall[i](embedl[i]))\n",
    "\n",
    "    embedcat=Concatenate()(l)\n",
    "\n",
    "    embedcat=Dense(128,activation=\"relu\")(embedcat)\n",
    "\n",
    "    floatdense=Dense(128)(input1)\n",
    "    embedcatnew=Flatten()(embedcat)\n",
    "\n",
    "    last=Concatenate()([embedcatnew,floatdense])\n",
    "    output1=Dense(128)(last)\n",
    "    output = Dense(5, activation='softmax')(output1)#softmax层\n",
    "\n",
    "    model = Model(inputs=[input1]+embedl, outputs=output)\n",
    "    model.compile(loss='sparse_categorical_crossentropy', optimizer='adam', metrics=['accuracy'])#定义损失函数，优化器，评分标准\n",
    "    model.summary()\n",
    "    return model"
   ]
  },
  {
   "cell_type": "code",
   "execution_count": 9,
   "metadata": {
    "ExecuteTime": {
     "end_time": "2021-12-21T13:36:13.932180Z",
     "start_time": "2021-12-21T13:36:05.522704Z"
    }
   },
   "outputs": [
    {
     "name": "stdout",
     "output_type": "stream",
     "text": [
      "fold 0 start\n",
      "WARNING:tensorflow:From /Users/kongmiao/opt/anaconda3/lib/python3.7/site-packages/tensorflow/python/keras/initializers.py:119: calling RandomUniform.__init__ (from tensorflow.python.ops.init_ops) with dtype is deprecated and will be removed in a future version.\n",
      "Instructions for updating:\n",
      "Call initializer instance with the dtype argument instead of passing it to the constructor\n",
      "WARNING:tensorflow:From /Users/kongmiao/opt/anaconda3/lib/python3.7/site-packages/tensorflow/python/ops/init_ops.py:1251: calling VarianceScaling.__init__ (from tensorflow.python.ops.init_ops) with dtype is deprecated and will be removed in a future version.\n",
      "Instructions for updating:\n",
      "Call initializer instance with the dtype argument instead of passing it to the constructor\n",
      "Model: \"model\"\n",
      "__________________________________________________________________________________________________\n",
      "Layer (type)                    Output Shape         Param #     Connected to                     \n",
      "==================================================================================================\n",
      "input_2 (InputLayer)            [(None, 1)]          0                                            \n",
      "__________________________________________________________________________________________________\n",
      "input_3 (InputLayer)            [(None, 1)]          0                                            \n",
      "__________________________________________________________________________________________________\n",
      "input_4 (InputLayer)            [(None, 1)]          0                                            \n",
      "__________________________________________________________________________________________________\n",
      "embedding (Embedding)           (None, 1, 128)       12800       input_2[0][0]                    \n",
      "__________________________________________________________________________________________________\n",
      "embedding_1 (Embedding)         (None, 1, 128)       12800       input_3[0][0]                    \n",
      "__________________________________________________________________________________________________\n",
      "embedding_2 (Embedding)         (None, 1, 128)       12800       input_4[0][0]                    \n",
      "__________________________________________________________________________________________________\n",
      "concatenate (Concatenate)       (None, 1, 384)       0           embedding[0][0]                  \n",
      "                                                                 embedding_1[0][0]                \n",
      "                                                                 embedding_2[0][0]                \n",
      "__________________________________________________________________________________________________\n",
      "dense (Dense)                   (None, 1, 128)       49280       concatenate[0][0]                \n",
      "__________________________________________________________________________________________________\n",
      "input_1 (InputLayer)            [(None, 11)]         0                                            \n",
      "__________________________________________________________________________________________________\n",
      "flatten (Flatten)               (None, 128)          0           dense[0][0]                      \n",
      "__________________________________________________________________________________________________\n",
      "dense_1 (Dense)                 (None, 128)          1536        input_1[0][0]                    \n",
      "__________________________________________________________________________________________________\n",
      "concatenate_1 (Concatenate)     (None, 256)          0           flatten[0][0]                    \n",
      "                                                                 dense_1[0][0]                    \n",
      "__________________________________________________________________________________________________\n",
      "dense_2 (Dense)                 (None, 128)          32896       concatenate_1[0][0]              \n",
      "__________________________________________________________________________________________________\n",
      "dense_3 (Dense)                 (None, 5)            645         dense_2[0][0]                    \n",
      "==================================================================================================\n",
      "Total params: 122,757\n",
      "Trainable params: 122,757\n",
      "Non-trainable params: 0\n",
      "__________________________________________________________________________________________________\n",
      "Train on 3701 samples, validate on 926 samples\n",
      "Epoch 1/20\n",
      "3701/3701 [==============================] - 1s 340us/sample - loss: 1.3234 - acc: 0.3769 - val_loss: 1.3339 - val_acc: 0.3844\n",
      "Epoch 2/20\n",
      "3701/3701 [==============================] - 1s 167us/sample - loss: 1.3030 - acc: 0.3842 - val_loss: 1.3214 - val_acc: 0.3801\n",
      "Epoch 3/20\n",
      "3701/3701 [==============================] - 1s 177us/sample - loss: 1.2988 - acc: 0.3945 - val_loss: 1.3327 - val_acc: 0.3812\n",
      "Epoch 4/20\n",
      "3701/3701 [==============================] - 1s 200us/sample - loss: 1.2911 - acc: 0.3972 - val_loss: 1.3162 - val_acc: 0.3952\n",
      "Epoch 5/20\n",
      "3701/3701 [==============================] - 1s 206us/sample - loss: 1.2921 - acc: 0.3880 - val_loss: 1.3253 - val_acc: 0.3812\n",
      "Epoch 6/20\n",
      "3701/3701 [==============================] - 1s 174us/sample - loss: 1.2891 - acc: 0.4010 - val_loss: 1.3245 - val_acc: 0.3942\n",
      "Epoch 7/20\n",
      "3701/3701 [==============================] - 1s 167us/sample - loss: 1.2863 - acc: 0.3956 - val_loss: 1.3251 - val_acc: 0.3639\n",
      "Epoch 8/20\n",
      "3701/3701 [==============================] - 1s 157us/sample - loss: 1.2895 - acc: 0.3991 - val_loss: 1.3350 - val_acc: 0.3855\n",
      "Epoch 9/20\n",
      "3701/3701 [==============================] - 1s 168us/sample - loss: 1.2851 - acc: 0.4031 - val_loss: 1.3312 - val_acc: 0.3920\n",
      "Epoch 10/20\n",
      "3701/3701 [==============================] - 1s 181us/sample - loss: 1.2873 - acc: 0.3988 - val_loss: 1.3227 - val_acc: 0.3812\n",
      "Epoch 11/20\n",
      "3701/3701 [==============================] - 1s 186us/sample - loss: 1.2859 - acc: 0.3988 - val_loss: 1.3264 - val_acc: 0.3855\n",
      "Epoch 12/20\n",
      "3701/3701 [==============================] - 1s 180us/sample - loss: 1.2851 - acc: 0.3996 - val_loss: 1.3241 - val_acc: 0.3855\n",
      "Epoch 13/20\n",
      "3701/3701 [==============================] - 1s 162us/sample - loss: 1.2842 - acc: 0.3983 - val_loss: 1.3244 - val_acc: 0.3726\n",
      "Epoch 14/20\n",
      "3701/3701 [==============================] - 1s 187us/sample - loss: 1.2824 - acc: 0.4015 - val_loss: 1.3288 - val_acc: 0.3812\n",
      "Epoch 15/20\n",
      "3701/3701 [==============================] - 1s 203us/sample - loss: 1.2837 - acc: 0.3983 - val_loss: 1.3248 - val_acc: 0.3747\n",
      "Epoch 16/20\n",
      "3701/3701 [==============================] - 1s 161us/sample - loss: 1.2823 - acc: 0.4058 - val_loss: 1.3214 - val_acc: 0.3790\n",
      "Epoch 17/20\n",
      "3701/3701 [==============================] - 1s 146us/sample - loss: 1.2837 - acc: 0.4026 - val_loss: 1.3225 - val_acc: 0.3855\n",
      "Epoch 18/20\n",
      "3701/3701 [==============================] - 1s 171us/sample - loss: 1.2799 - acc: 0.4080 - val_loss: 1.3244 - val_acc: 0.3866\n",
      "Epoch 19/20\n",
      "3701/3701 [==============================] - 1s 155us/sample - loss: 1.2817 - acc: 0.3994 - val_loss: 1.3239 - val_acc: 0.3812\n",
      "Epoch 20/20\n",
      "3701/3701 [==============================] - 1s 143us/sample - loss: 1.2821 - acc: 0.4061 - val_loss: 1.3221 - val_acc: 0.3585\n",
      "fold_2 acc: 0.3952483801295896 precision: 0.24158044124584296 recall : 0.2755307658385392 ,mac f1: 0.2538402669332518 ,mic f1: 0.3952483801295896\n",
      "test reprot:                precision    recall  f1-score   support\n",
      "\n",
      "           0     0.0000    0.0000    0.0000        21\n",
      "           1     0.0000    0.0000    0.0000        98\n",
      "           2     0.3342    0.5348    0.4114       230\n",
      "           3     0.4055    0.4027    0.4041       293\n",
      "           4     0.4682    0.4401    0.4537       284\n",
      "\n",
      "    accuracy                         0.3952       926\n",
      "   macro avg     0.2416    0.2755    0.2538       926\n",
      "weighted avg     0.3549    0.3952    0.3692       926\n",
      "\n"
     ]
    },
    {
     "name": "stderr",
     "output_type": "stream",
     "text": [
      "/Users/kongmiao/opt/anaconda3/lib/python3.7/site-packages/sklearn/metrics/_classification.py:1248: UndefinedMetricWarning: Precision is ill-defined and being set to 0.0 in labels with no predicted samples. Use `zero_division` parameter to control this behavior.\n",
      "  _warn_prf(average, modifier, msg_start, len(result))\n",
      "/Users/kongmiao/opt/anaconda3/lib/python3.7/site-packages/sklearn/metrics/_classification.py:1248: UndefinedMetricWarning: Precision and F-score are ill-defined and being set to 0.0 in labels with no predicted samples. Use `zero_division` parameter to control this behavior.\n",
      "  _warn_prf(average, modifier, msg_start, len(result))\n",
      "/Users/kongmiao/opt/anaconda3/lib/python3.7/site-packages/sklearn/metrics/_classification.py:1248: UndefinedMetricWarning: Precision and F-score are ill-defined and being set to 0.0 in labels with no predicted samples. Use `zero_division` parameter to control this behavior.\n",
      "  _warn_prf(average, modifier, msg_start, len(result))\n",
      "/Users/kongmiao/opt/anaconda3/lib/python3.7/site-packages/sklearn/metrics/_classification.py:1248: UndefinedMetricWarning: Precision and F-score are ill-defined and being set to 0.0 in labels with no predicted samples. Use `zero_division` parameter to control this behavior.\n",
      "  _warn_prf(average, modifier, msg_start, len(result))\n",
      "/Users/kongmiao/opt/anaconda3/lib/python3.7/site-packages/sklearn/metrics/_classification.py:1248: UndefinedMetricWarning: Precision is ill-defined and being set to 0.0 in labels with no predicted samples. Use `zero_division` parameter to control this behavior.\n",
      "  _warn_prf(average, modifier, msg_start, len(result))\n",
      "/Users/kongmiao/opt/anaconda3/lib/python3.7/site-packages/sklearn/metrics/_classification.py:1248: UndefinedMetricWarning: Precision and F-score are ill-defined and being set to 0.0 in labels with no predicted samples. Use `zero_division` parameter to control this behavior.\n",
      "  _warn_prf(average, modifier, msg_start, len(result))\n",
      "/Users/kongmiao/opt/anaconda3/lib/python3.7/site-packages/sklearn/metrics/_classification.py:1248: UndefinedMetricWarning: Precision and F-score are ill-defined and being set to 0.0 in labels with no predicted samples. Use `zero_division` parameter to control this behavior.\n",
      "  _warn_prf(average, modifier, msg_start, len(result))\n",
      "/Users/kongmiao/opt/anaconda3/lib/python3.7/site-packages/sklearn/metrics/_classification.py:1248: UndefinedMetricWarning: Precision and F-score are ill-defined and being set to 0.0 in labels with no predicted samples. Use `zero_division` parameter to control this behavior.\n",
      "  _warn_prf(average, modifier, msg_start, len(result))\n"
     ]
    },
    {
     "name": "stdout",
     "output_type": "stream",
     "text": [
      "fold_3 train_acc: 0.41151040259389354 train_precision: 0.25258094882447213 train_recall : 0.28843691301962837,mac f1: 0.26447620625715074 ,mic f1: 0.41151040259389354\n",
      "train reprot:                precision    recall  f1-score   support\n",
      "\n",
      "           0     0.0000    0.0000    0.0000        83\n",
      "           1     0.0000    0.0000    0.0000       399\n",
      "           2     0.3659    0.6004    0.4547       941\n",
      "           3     0.3895    0.3915    0.3905      1152\n",
      "           4     0.5075    0.4503    0.4772      1126\n",
      "\n",
      "    accuracy                         0.4115      3701\n",
      "   macro avg     0.2526    0.2884    0.2645      3701\n",
      "weighted avg     0.3687    0.4115    0.3823      3701\n",
      "\n",
      "fold 3 start\n",
      "Model: \"model_1\"\n",
      "__________________________________________________________________________________________________\n",
      "Layer (type)                    Output Shape         Param #     Connected to                     \n",
      "==================================================================================================\n",
      "input_6 (InputLayer)            [(None, 1)]          0                                            \n",
      "__________________________________________________________________________________________________\n",
      "input_7 (InputLayer)            [(None, 1)]          0                                            \n",
      "__________________________________________________________________________________________________\n",
      "input_8 (InputLayer)            [(None, 1)]          0                                            \n",
      "__________________________________________________________________________________________________\n",
      "embedding_3 (Embedding)         (None, 1, 128)       12800       input_6[0][0]                    \n",
      "__________________________________________________________________________________________________\n",
      "embedding_4 (Embedding)         (None, 1, 128)       12800       input_7[0][0]                    \n",
      "__________________________________________________________________________________________________\n",
      "embedding_5 (Embedding)         (None, 1, 128)       12800       input_8[0][0]                    \n",
      "__________________________________________________________________________________________________\n",
      "concatenate_2 (Concatenate)     (None, 1, 384)       0           embedding_3[0][0]                \n",
      "                                                                 embedding_4[0][0]                \n",
      "                                                                 embedding_5[0][0]                \n",
      "__________________________________________________________________________________________________\n",
      "dense_4 (Dense)                 (None, 1, 128)       49280       concatenate_2[0][0]              \n",
      "__________________________________________________________________________________________________\n",
      "input_5 (InputLayer)            [(None, 11)]         0                                            \n",
      "__________________________________________________________________________________________________\n",
      "flatten_1 (Flatten)             (None, 128)          0           dense_4[0][0]                    \n",
      "__________________________________________________________________________________________________\n",
      "dense_5 (Dense)                 (None, 128)          1536        input_5[0][0]                    \n",
      "__________________________________________________________________________________________________\n",
      "concatenate_3 (Concatenate)     (None, 256)          0           flatten_1[0][0]                  \n",
      "                                                                 dense_5[0][0]                    \n",
      "__________________________________________________________________________________________________\n",
      "dense_6 (Dense)                 (None, 128)          32896       concatenate_3[0][0]              \n",
      "__________________________________________________________________________________________________\n",
      "dense_7 (Dense)                 (None, 5)            645         dense_6[0][0]                    \n",
      "==================================================================================================\n",
      "Total params: 122,757\n",
      "Trainable params: 122,757\n",
      "Non-trainable params: 0\n",
      "__________________________________________________________________________________________________\n",
      "Train on 3701 samples, validate on 926 samples\n",
      "Epoch 1/20\n",
      "3701/3701 [==============================] - 1s 283us/sample - loss: 1.3202 - acc: 0.3753 - val_loss: 1.3434 - val_acc: 0.3866\n",
      "Epoch 2/20\n",
      "3701/3701 [==============================] - 1s 174us/sample - loss: 1.2983 - acc: 0.3796 - val_loss: 1.3465 - val_acc: 0.3855\n",
      "Epoch 3/20\n",
      "3701/3701 [==============================] - 1s 155us/sample - loss: 1.2969 - acc: 0.3785 - val_loss: 1.3258 - val_acc: 0.3639\n",
      "Epoch 4/20\n",
      "3701/3701 [==============================] - 1s 162us/sample - loss: 1.2913 - acc: 0.3904 - val_loss: 1.3479 - val_acc: 0.3834\n",
      "Epoch 5/20\n",
      "3701/3701 [==============================] - 1s 177us/sample - loss: 1.2928 - acc: 0.3918 - val_loss: 1.3321 - val_acc: 0.3855\n",
      "Epoch 6/20\n",
      "3701/3701 [==============================] - 1s 175us/sample - loss: 1.2883 - acc: 0.3907 - val_loss: 1.3315 - val_acc: 0.3952\n",
      "Epoch 7/20\n",
      "3701/3701 [==============================] - 1s 161us/sample - loss: 1.2887 - acc: 0.3845 - val_loss: 1.3436 - val_acc: 0.3683\n",
      "Epoch 8/20\n",
      "3701/3701 [==============================] - 1s 157us/sample - loss: 1.2872 - acc: 0.3910 - val_loss: 1.3280 - val_acc: 0.3866\n",
      "Epoch 9/20\n",
      "3701/3701 [==============================] - 1s 147us/sample - loss: 1.2822 - acc: 0.3931 - val_loss: 1.3374 - val_acc: 0.3801\n",
      "Epoch 10/20\n",
      "3701/3701 [==============================] - 1s 166us/sample - loss: 1.2857 - acc: 0.3899 - val_loss: 1.3247 - val_acc: 0.4071\n",
      "Epoch 11/20\n",
      "3701/3701 [==============================] - 1s 168us/sample - loss: 1.2842 - acc: 0.3996 - val_loss: 1.3336 - val_acc: 0.4125\n",
      "Epoch 12/20\n",
      "3701/3701 [==============================] - 1s 145us/sample - loss: 1.2849 - acc: 0.3966 - val_loss: 1.3397 - val_acc: 0.3769\n",
      "Epoch 13/20\n",
      "3701/3701 [==============================] - 1s 181us/sample - loss: 1.2824 - acc: 0.4023 - val_loss: 1.3278 - val_acc: 0.3952\n",
      "Epoch 14/20\n",
      "3701/3701 [==============================] - 1s 168us/sample - loss: 1.2827 - acc: 0.4048 - val_loss: 1.3239 - val_acc: 0.3898\n",
      "Epoch 15/20\n",
      "3701/3701 [==============================] - 1s 145us/sample - loss: 1.2826 - acc: 0.3980 - val_loss: 1.3360 - val_acc: 0.3639\n",
      "Epoch 16/20\n",
      "3701/3701 [==============================] - 1s 175us/sample - loss: 1.2811 - acc: 0.3918 - val_loss: 1.3327 - val_acc: 0.4125\n",
      "Epoch 17/20\n",
      "3701/3701 [==============================] - 1s 172us/sample - loss: 1.2822 - acc: 0.4002 - val_loss: 1.3352 - val_acc: 0.4006\n",
      "Epoch 18/20\n",
      "3701/3701 [==============================] - 1s 148us/sample - loss: 1.2822 - acc: 0.3972 - val_loss: 1.3340 - val_acc: 0.3952\n",
      "Epoch 19/20\n",
      "3701/3701 [==============================] - 1s 175us/sample - loss: 1.2832 - acc: 0.3969 - val_loss: 1.3281 - val_acc: 0.4050\n",
      "Epoch 20/20\n",
      "3701/3701 [==============================] - 1s 175us/sample - loss: 1.2802 - acc: 0.4002 - val_loss: 1.3294 - val_acc: 0.3737\n"
     ]
    },
    {
     "name": "stderr",
     "output_type": "stream",
     "text": [
      "/Users/kongmiao/opt/anaconda3/lib/python3.7/site-packages/sklearn/metrics/_classification.py:1248: UndefinedMetricWarning: Precision is ill-defined and being set to 0.0 in labels with no predicted samples. Use `zero_division` parameter to control this behavior.\n",
      "  _warn_prf(average, modifier, msg_start, len(result))\n",
      "/Users/kongmiao/opt/anaconda3/lib/python3.7/site-packages/sklearn/metrics/_classification.py:1248: UndefinedMetricWarning: Precision and F-score are ill-defined and being set to 0.0 in labels with no predicted samples. Use `zero_division` parameter to control this behavior.\n",
      "  _warn_prf(average, modifier, msg_start, len(result))\n",
      "/Users/kongmiao/opt/anaconda3/lib/python3.7/site-packages/sklearn/metrics/_classification.py:1248: UndefinedMetricWarning: Precision and F-score are ill-defined and being set to 0.0 in labels with no predicted samples. Use `zero_division` parameter to control this behavior.\n",
      "  _warn_prf(average, modifier, msg_start, len(result))\n",
      "/Users/kongmiao/opt/anaconda3/lib/python3.7/site-packages/sklearn/metrics/_classification.py:1248: UndefinedMetricWarning: Precision and F-score are ill-defined and being set to 0.0 in labels with no predicted samples. Use `zero_division` parameter to control this behavior.\n",
      "  _warn_prf(average, modifier, msg_start, len(result))\n",
      "/Users/kongmiao/opt/anaconda3/lib/python3.7/site-packages/sklearn/metrics/_classification.py:1248: UndefinedMetricWarning: Precision is ill-defined and being set to 0.0 in labels with no predicted samples. Use `zero_division` parameter to control this behavior.\n",
      "  _warn_prf(average, modifier, msg_start, len(result))\n",
      "/Users/kongmiao/opt/anaconda3/lib/python3.7/site-packages/sklearn/metrics/_classification.py:1248: UndefinedMetricWarning: Precision and F-score are ill-defined and being set to 0.0 in labels with no predicted samples. Use `zero_division` parameter to control this behavior.\n",
      "  _warn_prf(average, modifier, msg_start, len(result))\n",
      "/Users/kongmiao/opt/anaconda3/lib/python3.7/site-packages/sklearn/metrics/_classification.py:1248: UndefinedMetricWarning: Precision and F-score are ill-defined and being set to 0.0 in labels with no predicted samples. Use `zero_division` parameter to control this behavior.\n",
      "  _warn_prf(average, modifier, msg_start, len(result))\n",
      "/Users/kongmiao/opt/anaconda3/lib/python3.7/site-packages/sklearn/metrics/_classification.py:1248: UndefinedMetricWarning: Precision and F-score are ill-defined and being set to 0.0 in labels with no predicted samples. Use `zero_division` parameter to control this behavior.\n",
      "  _warn_prf(average, modifier, msg_start, len(result))\n"
     ]
    },
    {
     "name": "stdout",
     "output_type": "stream",
     "text": [
      "fold_2 acc: 0.41252699784017277 precision: 0.25764738134401294 recall : 0.29835724692596705 ,mac f1: 0.2642187348034688 ,mic f1: 0.41252699784017277\n",
      "test reprot:                precision    recall  f1-score   support\n",
      "\n",
      "           0     0.0000    0.0000    0.0000        27\n",
      "           1     0.0000    0.0000    0.0000       110\n",
      "           2     0.3650    0.7238    0.4853       239\n",
      "           3     0.4444    0.3265    0.3765       294\n",
      "           4     0.4788    0.4414    0.4593       256\n",
      "\n",
      "    accuracy                         0.4125       926\n",
      "   macro avg     0.2576    0.2984    0.2642       926\n",
      "weighted avg     0.3677    0.4125    0.3718       926\n",
      "\n",
      "fold_3 train_acc: 0.40610645771413134 train_precision: 0.2516297688198385 train_recall : 0.2873469844962367,mac f1: 0.25642584501975724 ,mic f1: 0.40610645771413134\n",
      "train reprot:                precision    recall  f1-score   support\n",
      "\n",
      "           0     0.0000    0.0000    0.0000        77\n",
      "           1     0.0000    0.0000    0.0000       387\n",
      "           2     0.3536    0.6942    0.4685       932\n",
      "           3     0.4007    0.2928    0.3384      1151\n",
      "           4     0.5039    0.4497    0.4753      1154\n",
      "\n",
      "    accuracy                         0.4061      3701\n",
      "   macro avg     0.2516    0.2873    0.2564      3701\n",
      "weighted avg     0.3708    0.4061    0.3714      3701\n",
      "\n",
      "fold 3 start\n",
      "Model: \"model_2\"\n",
      "__________________________________________________________________________________________________\n",
      "Layer (type)                    Output Shape         Param #     Connected to                     \n",
      "==================================================================================================\n",
      "input_10 (InputLayer)           [(None, 1)]          0                                            \n",
      "__________________________________________________________________________________________________\n",
      "input_11 (InputLayer)           [(None, 1)]          0                                            \n",
      "__________________________________________________________________________________________________\n",
      "input_12 (InputLayer)           [(None, 1)]          0                                            \n",
      "__________________________________________________________________________________________________\n",
      "embedding_6 (Embedding)         (None, 1, 128)       12800       input_10[0][0]                   \n",
      "__________________________________________________________________________________________________\n",
      "embedding_7 (Embedding)         (None, 1, 128)       12800       input_11[0][0]                   \n",
      "__________________________________________________________________________________________________\n",
      "embedding_8 (Embedding)         (None, 1, 128)       12800       input_12[0][0]                   \n",
      "__________________________________________________________________________________________________\n",
      "concatenate_4 (Concatenate)     (None, 1, 384)       0           embedding_6[0][0]                \n",
      "                                                                 embedding_7[0][0]                \n",
      "                                                                 embedding_8[0][0]                \n",
      "__________________________________________________________________________________________________\n",
      "dense_8 (Dense)                 (None, 1, 128)       49280       concatenate_4[0][0]              \n",
      "__________________________________________________________________________________________________\n",
      "input_9 (InputLayer)            [(None, 11)]         0                                            \n",
      "__________________________________________________________________________________________________\n",
      "flatten_2 (Flatten)             (None, 128)          0           dense_8[0][0]                    \n",
      "__________________________________________________________________________________________________\n",
      "dense_9 (Dense)                 (None, 128)          1536        input_9[0][0]                    \n",
      "__________________________________________________________________________________________________\n",
      "concatenate_5 (Concatenate)     (None, 256)          0           flatten_2[0][0]                  \n",
      "                                                                 dense_9[0][0]                    \n",
      "__________________________________________________________________________________________________\n",
      "dense_10 (Dense)                (None, 128)          32896       concatenate_5[0][0]              \n",
      "__________________________________________________________________________________________________\n",
      "dense_11 (Dense)                (None, 5)            645         dense_10[0][0]                   \n",
      "==================================================================================================\n",
      "Total params: 122,757\n",
      "Trainable params: 122,757\n",
      "Non-trainable params: 0\n",
      "__________________________________________________________________________________________________\n",
      "Train on 3702 samples, validate on 925 samples\n",
      "Epoch 1/20\n",
      "3702/3702 [==============================] - 1s 255us/sample - loss: 1.3245 - acc: 0.3806 - val_loss: 1.3041 - val_acc: 0.3849\n",
      "Epoch 2/20\n",
      "3702/3702 [==============================] - 0s 125us/sample - loss: 1.3078 - acc: 0.3814 - val_loss: 1.3170 - val_acc: 0.4000\n",
      "Epoch 3/20\n",
      "3702/3702 [==============================] - 0s 119us/sample - loss: 1.3057 - acc: 0.3857 - val_loss: 1.2955 - val_acc: 0.3881\n",
      "Epoch 4/20\n",
      "3702/3702 [==============================] - 0s 129us/sample - loss: 1.3028 - acc: 0.3892 - val_loss: 1.2932 - val_acc: 0.3751\n",
      "Epoch 5/20\n",
      "3702/3702 [==============================] - 0s 113us/sample - loss: 1.3004 - acc: 0.3938 - val_loss: 1.2862 - val_acc: 0.3989\n",
      "Epoch 6/20\n",
      "3702/3702 [==============================] - 0s 120us/sample - loss: 1.2996 - acc: 0.3955 - val_loss: 1.2963 - val_acc: 0.3914\n",
      "Epoch 7/20\n",
      "3702/3702 [==============================] - 0s 120us/sample - loss: 1.2960 - acc: 0.3944 - val_loss: 1.3015 - val_acc: 0.3989\n",
      "Epoch 8/20\n",
      "3702/3702 [==============================] - 0s 116us/sample - loss: 1.2970 - acc: 0.3914 - val_loss: 1.2894 - val_acc: 0.3903\n",
      "Epoch 9/20\n",
      "3702/3702 [==============================] - 0s 117us/sample - loss: 1.2950 - acc: 0.3855 - val_loss: 1.2945 - val_acc: 0.4032\n",
      "Epoch 10/20\n",
      "3702/3702 [==============================] - 1s 170us/sample - loss: 1.2951 - acc: 0.3952 - val_loss: 1.2903 - val_acc: 0.4097\n",
      "Epoch 11/20\n",
      "3702/3702 [==============================] - 1s 161us/sample - loss: 1.2935 - acc: 0.3968 - val_loss: 1.2976 - val_acc: 0.3816\n",
      "Epoch 12/20\n",
      "3702/3702 [==============================] - 1s 154us/sample - loss: 1.2941 - acc: 0.3938 - val_loss: 1.2840 - val_acc: 0.3978\n",
      "Epoch 13/20\n",
      "3702/3702 [==============================] - 0s 113us/sample - loss: 1.2925 - acc: 0.3974 - val_loss: 1.2884 - val_acc: 0.4000\n",
      "Epoch 14/20\n",
      "3702/3702 [==============================] - 0s 114us/sample - loss: 1.2941 - acc: 0.3960 - val_loss: 1.2890 - val_acc: 0.4032\n",
      "Epoch 15/20\n",
      "3702/3702 [==============================] - 0s 111us/sample - loss: 1.2914 - acc: 0.3965 - val_loss: 1.2850 - val_acc: 0.4032\n",
      "Epoch 16/20\n",
      "3702/3702 [==============================] - 0s 113us/sample - loss: 1.2914 - acc: 0.4001 - val_loss: 1.2859 - val_acc: 0.3946\n",
      "Epoch 17/20\n",
      "3702/3702 [==============================] - 0s 116us/sample - loss: 1.2907 - acc: 0.3936 - val_loss: 1.2998 - val_acc: 0.3795\n",
      "Epoch 18/20\n",
      "3702/3702 [==============================] - 0s 116us/sample - loss: 1.2926 - acc: 0.3938 - val_loss: 1.2877 - val_acc: 0.3989\n",
      "Epoch 19/20\n",
      "3702/3702 [==============================] - 0s 114us/sample - loss: 1.2904 - acc: 0.3984 - val_loss: 1.2912 - val_acc: 0.4032\n",
      "Epoch 20/20\n",
      "3702/3702 [==============================] - 0s 110us/sample - loss: 1.2909 - acc: 0.3947 - val_loss: 1.2861 - val_acc: 0.4000\n",
      "fold_2 acc: 0.4097297297297297 precision: 0.26600477566117026 recall : 0.28797401455123406 ,mac f1: 0.25318244595997985 ,mic f1: 0.4097297297297297\n"
     ]
    },
    {
     "name": "stderr",
     "output_type": "stream",
     "text": [
      "/Users/kongmiao/opt/anaconda3/lib/python3.7/site-packages/sklearn/metrics/_classification.py:1248: UndefinedMetricWarning: Precision is ill-defined and being set to 0.0 in labels with no predicted samples. Use `zero_division` parameter to control this behavior.\n",
      "  _warn_prf(average, modifier, msg_start, len(result))\n",
      "/Users/kongmiao/opt/anaconda3/lib/python3.7/site-packages/sklearn/metrics/_classification.py:1248: UndefinedMetricWarning: Precision and F-score are ill-defined and being set to 0.0 in labels with no predicted samples. Use `zero_division` parameter to control this behavior.\n",
      "  _warn_prf(average, modifier, msg_start, len(result))\n",
      "/Users/kongmiao/opt/anaconda3/lib/python3.7/site-packages/sklearn/metrics/_classification.py:1248: UndefinedMetricWarning: Precision and F-score are ill-defined and being set to 0.0 in labels with no predicted samples. Use `zero_division` parameter to control this behavior.\n",
      "  _warn_prf(average, modifier, msg_start, len(result))\n",
      "/Users/kongmiao/opt/anaconda3/lib/python3.7/site-packages/sklearn/metrics/_classification.py:1248: UndefinedMetricWarning: Precision and F-score are ill-defined and being set to 0.0 in labels with no predicted samples. Use `zero_division` parameter to control this behavior.\n",
      "  _warn_prf(average, modifier, msg_start, len(result))\n",
      "/Users/kongmiao/opt/anaconda3/lib/python3.7/site-packages/sklearn/metrics/_classification.py:1248: UndefinedMetricWarning: Precision is ill-defined and being set to 0.0 in labels with no predicted samples. Use `zero_division` parameter to control this behavior.\n",
      "  _warn_prf(average, modifier, msg_start, len(result))\n",
      "/Users/kongmiao/opt/anaconda3/lib/python3.7/site-packages/sklearn/metrics/_classification.py:1248: UndefinedMetricWarning: Precision and F-score are ill-defined and being set to 0.0 in labels with no predicted samples. Use `zero_division` parameter to control this behavior.\n",
      "  _warn_prf(average, modifier, msg_start, len(result))\n",
      "/Users/kongmiao/opt/anaconda3/lib/python3.7/site-packages/sklearn/metrics/_classification.py:1248: UndefinedMetricWarning: Precision and F-score are ill-defined and being set to 0.0 in labels with no predicted samples. Use `zero_division` parameter to control this behavior.\n",
      "  _warn_prf(average, modifier, msg_start, len(result))\n",
      "/Users/kongmiao/opt/anaconda3/lib/python3.7/site-packages/sklearn/metrics/_classification.py:1248: UndefinedMetricWarning: Precision and F-score are ill-defined and being set to 0.0 in labels with no predicted samples. Use `zero_division` parameter to control this behavior.\n",
      "  _warn_prf(average, modifier, msg_start, len(result))\n"
     ]
    },
    {
     "name": "stdout",
     "output_type": "stream",
     "text": [
      "test reprot:                precision    recall  f1-score   support\n",
      "\n",
      "           0     0.0000    0.0000    0.0000        26\n",
      "           1     0.0000    0.0000    0.0000        98\n",
      "           2     0.3553    0.6195    0.4516       226\n",
      "           3     0.4221    0.5946    0.4937       296\n",
      "           4     0.5526    0.2258    0.3206       279\n",
      "\n",
      "    accuracy                         0.4097       925\n",
      "   macro avg     0.2660    0.2880    0.2532       925\n",
      "weighted avg     0.3886    0.4097    0.3650       925\n",
      "\n",
      "fold_3 train_acc: 0.395732036736899 train_precision: 0.26614584173590383 train_recall : 0.2762829177198494,mac f1: 0.24481995190913902 ,mic f1: 0.395732036736899\n",
      "train reprot:                precision    recall  f1-score   support\n",
      "\n",
      "           0     0.0000    0.0000    0.0000        78\n",
      "           1     0.0000    0.0000    0.0000       399\n",
      "           2     0.3610    0.5799    0.4450       945\n",
      "           3     0.3793    0.5822    0.4593      1149\n",
      "           4     0.5905    0.2193    0.3198      1131\n",
      "\n",
      "    accuracy                         0.3957      3702\n",
      "   macro avg     0.2661    0.2763    0.2448      3702\n",
      "weighted avg     0.3903    0.3957    0.3539      3702\n",
      "\n",
      "fold 3 start\n",
      "Model: \"model_3\"\n",
      "__________________________________________________________________________________________________\n",
      "Layer (type)                    Output Shape         Param #     Connected to                     \n",
      "==================================================================================================\n",
      "input_14 (InputLayer)           [(None, 1)]          0                                            \n",
      "__________________________________________________________________________________________________\n",
      "input_15 (InputLayer)           [(None, 1)]          0                                            \n",
      "__________________________________________________________________________________________________\n",
      "input_16 (InputLayer)           [(None, 1)]          0                                            \n",
      "__________________________________________________________________________________________________\n",
      "embedding_9 (Embedding)         (None, 1, 128)       12800       input_14[0][0]                   \n",
      "__________________________________________________________________________________________________\n",
      "embedding_10 (Embedding)        (None, 1, 128)       12800       input_15[0][0]                   \n",
      "__________________________________________________________________________________________________\n",
      "embedding_11 (Embedding)        (None, 1, 128)       12800       input_16[0][0]                   \n",
      "__________________________________________________________________________________________________\n",
      "concatenate_6 (Concatenate)     (None, 1, 384)       0           embedding_9[0][0]                \n",
      "                                                                 embedding_10[0][0]               \n",
      "                                                                 embedding_11[0][0]               \n",
      "__________________________________________________________________________________________________\n",
      "dense_12 (Dense)                (None, 1, 128)       49280       concatenate_6[0][0]              \n",
      "__________________________________________________________________________________________________\n",
      "input_13 (InputLayer)           [(None, 11)]         0                                            \n",
      "__________________________________________________________________________________________________\n",
      "flatten_3 (Flatten)             (None, 128)          0           dense_12[0][0]                   \n",
      "__________________________________________________________________________________________________\n",
      "dense_13 (Dense)                (None, 128)          1536        input_13[0][0]                   \n",
      "__________________________________________________________________________________________________\n",
      "concatenate_7 (Concatenate)     (None, 256)          0           flatten_3[0][0]                  \n",
      "                                                                 dense_13[0][0]                   \n",
      "__________________________________________________________________________________________________\n",
      "dense_14 (Dense)                (None, 128)          32896       concatenate_7[0][0]              \n",
      "__________________________________________________________________________________________________\n",
      "dense_15 (Dense)                (None, 5)            645         dense_14[0][0]                   \n",
      "==================================================================================================\n",
      "Total params: 122,757\n",
      "Trainable params: 122,757\n",
      "Non-trainable params: 0\n",
      "__________________________________________________________________________________________________\n",
      "Train on 3702 samples, validate on 925 samples\n",
      "Epoch 1/20\n",
      "3702/3702 [==============================] - 1s 348us/sample - loss: 1.3359 - acc: 0.3733 - val_loss: 1.2803 - val_acc: 0.3762\n",
      "Epoch 2/20\n",
      "3702/3702 [==============================] - 1s 151us/sample - loss: 1.3132 - acc: 0.3879 - val_loss: 1.2919 - val_acc: 0.3459\n",
      "Epoch 3/20\n",
      "3702/3702 [==============================] - 1s 175us/sample - loss: 1.3085 - acc: 0.3820 - val_loss: 1.2830 - val_acc: 0.3968\n",
      "Epoch 4/20\n",
      "3702/3702 [==============================] - 1s 170us/sample - loss: 1.3075 - acc: 0.3906 - val_loss: 1.2866 - val_acc: 0.3697\n",
      "Epoch 5/20\n",
      "3702/3702 [==============================] - 1s 169us/sample - loss: 1.3055 - acc: 0.3906 - val_loss: 1.2845 - val_acc: 0.3805\n",
      "Epoch 6/20\n",
      "3702/3702 [==============================] - 1s 170us/sample - loss: 1.3018 - acc: 0.3809 - val_loss: 1.2748 - val_acc: 0.3989\n",
      "Epoch 7/20\n",
      "3702/3702 [==============================] - 1s 182us/sample - loss: 1.3012 - acc: 0.3933 - val_loss: 1.2648 - val_acc: 0.4238\n",
      "Epoch 8/20\n",
      "3702/3702 [==============================] - 1s 153us/sample - loss: 1.3029 - acc: 0.3798 - val_loss: 1.2701 - val_acc: 0.4162\n",
      "Epoch 9/20\n",
      "3702/3702 [==============================] - 1s 169us/sample - loss: 1.2995 - acc: 0.3836 - val_loss: 1.2651 - val_acc: 0.3946\n",
      "Epoch 10/20\n",
      "3702/3702 [==============================] - 1s 166us/sample - loss: 1.3008 - acc: 0.3920 - val_loss: 1.2770 - val_acc: 0.3946\n",
      "Epoch 11/20\n",
      "3702/3702 [==============================] - 1s 166us/sample - loss: 1.2981 - acc: 0.3887 - val_loss: 1.2765 - val_acc: 0.3676\n",
      "Epoch 12/20\n",
      "3702/3702 [==============================] - 1s 167us/sample - loss: 1.3007 - acc: 0.3938 - val_loss: 1.2647 - val_acc: 0.4195\n",
      "Epoch 13/20\n",
      "3702/3702 [==============================] - 1s 181us/sample - loss: 1.2991 - acc: 0.3930 - val_loss: 1.2870 - val_acc: 0.3946\n",
      "Epoch 14/20\n",
      "3702/3702 [==============================] - 1s 164us/sample - loss: 1.2977 - acc: 0.3949 - val_loss: 1.2702 - val_acc: 0.4216\n",
      "Epoch 15/20\n",
      "3702/3702 [==============================] - 1s 175us/sample - loss: 1.2986 - acc: 0.3820 - val_loss: 1.2661 - val_acc: 0.4173\n",
      "Epoch 16/20\n",
      "3702/3702 [==============================] - 1s 172us/sample - loss: 1.2981 - acc: 0.3941 - val_loss: 1.2624 - val_acc: 0.4216\n",
      "Epoch 17/20\n",
      "3702/3702 [==============================] - 1s 156us/sample - loss: 1.2979 - acc: 0.3960 - val_loss: 1.2636 - val_acc: 0.4011\n",
      "Epoch 18/20\n",
      "3702/3702 [==============================] - 1s 165us/sample - loss: 1.2979 - acc: 0.3917 - val_loss: 1.2634 - val_acc: 0.4216\n",
      "Epoch 19/20\n",
      "3702/3702 [==============================] - 1s 168us/sample - loss: 1.2956 - acc: 0.3974 - val_loss: 1.2639 - val_acc: 0.4227\n",
      "Epoch 20/20\n",
      "3702/3702 [==============================] - 1s 165us/sample - loss: 1.2949 - acc: 0.4036 - val_loss: 1.2667 - val_acc: 0.3957\n"
     ]
    },
    {
     "name": "stderr",
     "output_type": "stream",
     "text": [
      "/Users/kongmiao/opt/anaconda3/lib/python3.7/site-packages/sklearn/metrics/_classification.py:1248: UndefinedMetricWarning: Precision is ill-defined and being set to 0.0 in labels with no predicted samples. Use `zero_division` parameter to control this behavior.\n",
      "  _warn_prf(average, modifier, msg_start, len(result))\n",
      "/Users/kongmiao/opt/anaconda3/lib/python3.7/site-packages/sklearn/metrics/_classification.py:1248: UndefinedMetricWarning: Precision and F-score are ill-defined and being set to 0.0 in labels with no predicted samples. Use `zero_division` parameter to control this behavior.\n",
      "  _warn_prf(average, modifier, msg_start, len(result))\n",
      "/Users/kongmiao/opt/anaconda3/lib/python3.7/site-packages/sklearn/metrics/_classification.py:1248: UndefinedMetricWarning: Precision and F-score are ill-defined and being set to 0.0 in labels with no predicted samples. Use `zero_division` parameter to control this behavior.\n",
      "  _warn_prf(average, modifier, msg_start, len(result))\n",
      "/Users/kongmiao/opt/anaconda3/lib/python3.7/site-packages/sklearn/metrics/_classification.py:1248: UndefinedMetricWarning: Precision and F-score are ill-defined and being set to 0.0 in labels with no predicted samples. Use `zero_division` parameter to control this behavior.\n",
      "  _warn_prf(average, modifier, msg_start, len(result))\n",
      "/Users/kongmiao/opt/anaconda3/lib/python3.7/site-packages/sklearn/metrics/_classification.py:1248: UndefinedMetricWarning: Precision is ill-defined and being set to 0.0 in labels with no predicted samples. Use `zero_division` parameter to control this behavior.\n",
      "  _warn_prf(average, modifier, msg_start, len(result))\n",
      "/Users/kongmiao/opt/anaconda3/lib/python3.7/site-packages/sklearn/metrics/_classification.py:1248: UndefinedMetricWarning: Precision and F-score are ill-defined and being set to 0.0 in labels with no predicted samples. Use `zero_division` parameter to control this behavior.\n",
      "  _warn_prf(average, modifier, msg_start, len(result))\n",
      "/Users/kongmiao/opt/anaconda3/lib/python3.7/site-packages/sklearn/metrics/_classification.py:1248: UndefinedMetricWarning: Precision and F-score are ill-defined and being set to 0.0 in labels with no predicted samples. Use `zero_division` parameter to control this behavior.\n",
      "  _warn_prf(average, modifier, msg_start, len(result))\n",
      "/Users/kongmiao/opt/anaconda3/lib/python3.7/site-packages/sklearn/metrics/_classification.py:1248: UndefinedMetricWarning: Precision and F-score are ill-defined and being set to 0.0 in labels with no predicted samples. Use `zero_division` parameter to control this behavior.\n",
      "  _warn_prf(average, modifier, msg_start, len(result))\n"
     ]
    },
    {
     "name": "stdout",
     "output_type": "stream",
     "text": [
      "fold_2 acc: 0.4237837837837838 precision: 0.25537067775550565 recall : 0.29728542668145774 ,mac f1: 0.25370450280682477 ,mic f1: 0.4237837837837838\n",
      "test reprot:                precision    recall  f1-score   support\n",
      "\n",
      "           0     0.0000    0.0000    0.0000        20\n",
      "           1     0.0000    0.0000    0.0000        92\n",
      "           2     0.3722    0.7412    0.4956       228\n",
      "           3     0.4103    0.1714    0.2418       280\n",
      "           4     0.4944    0.5738    0.5311       305\n",
      "\n",
      "    accuracy                         0.4238       925\n",
      "   macro avg     0.2554    0.2973    0.2537       925\n",
      "weighted avg     0.3789    0.4238    0.3705       925\n",
      "\n",
      "fold_3 train_acc: 0.4011345218800648 train_precision: 0.24811481826347853 train_recall : 0.2867457317294556,mac f1: 0.24834659722283053 ,mic f1: 0.4011345218800648\n",
      "train reprot:                precision    recall  f1-score   support\n",
      "\n",
      "           0     0.0000    0.0000    0.0000        84\n",
      "           1     0.0000    0.0000    0.0000       405\n",
      "           2     0.3519    0.6903    0.4662       943\n",
      "           3     0.4288    0.2094    0.2814      1165\n",
      "           4     0.4599    0.5339    0.4941      1105\n",
      "\n",
      "    accuracy                         0.4011      3702\n",
      "   macro avg     0.2481    0.2867    0.2483      3702\n",
      "weighted avg     0.3618    0.4011    0.3548      3702\n",
      "\n",
      "fold 3 start\n",
      "Model: \"model_4\"\n",
      "__________________________________________________________________________________________________\n",
      "Layer (type)                    Output Shape         Param #     Connected to                     \n",
      "==================================================================================================\n",
      "input_18 (InputLayer)           [(None, 1)]          0                                            \n",
      "__________________________________________________________________________________________________\n",
      "input_19 (InputLayer)           [(None, 1)]          0                                            \n",
      "__________________________________________________________________________________________________\n",
      "input_20 (InputLayer)           [(None, 1)]          0                                            \n",
      "__________________________________________________________________________________________________\n",
      "embedding_12 (Embedding)        (None, 1, 128)       12800       input_18[0][0]                   \n",
      "__________________________________________________________________________________________________\n",
      "embedding_13 (Embedding)        (None, 1, 128)       12800       input_19[0][0]                   \n",
      "__________________________________________________________________________________________________\n",
      "embedding_14 (Embedding)        (None, 1, 128)       12800       input_20[0][0]                   \n",
      "__________________________________________________________________________________________________\n",
      "concatenate_8 (Concatenate)     (None, 1, 384)       0           embedding_12[0][0]               \n",
      "                                                                 embedding_13[0][0]               \n",
      "                                                                 embedding_14[0][0]               \n",
      "__________________________________________________________________________________________________\n",
      "dense_16 (Dense)                (None, 1, 128)       49280       concatenate_8[0][0]              \n",
      "__________________________________________________________________________________________________\n",
      "input_17 (InputLayer)           [(None, 11)]         0                                            \n",
      "__________________________________________________________________________________________________\n",
      "flatten_4 (Flatten)             (None, 128)          0           dense_16[0][0]                   \n",
      "__________________________________________________________________________________________________\n",
      "dense_17 (Dense)                (None, 128)          1536        input_17[0][0]                   \n",
      "__________________________________________________________________________________________________\n",
      "concatenate_9 (Concatenate)     (None, 256)          0           flatten_4[0][0]                  \n",
      "                                                                 dense_17[0][0]                   \n",
      "__________________________________________________________________________________________________\n",
      "dense_18 (Dense)                (None, 128)          32896       concatenate_9[0][0]              \n",
      "__________________________________________________________________________________________________\n",
      "dense_19 (Dense)                (None, 5)            645         dense_18[0][0]                   \n",
      "==================================================================================================\n",
      "Total params: 122,757\n",
      "Trainable params: 122,757\n",
      "Non-trainable params: 0\n",
      "__________________________________________________________________________________________________\n",
      "Train on 3702 samples, validate on 925 samples\n",
      "Epoch 1/20\n",
      "3702/3702 [==============================] - 2s 421us/sample - loss: 1.3357 - acc: 0.3730 - val_loss: 1.2832 - val_acc: 0.3946\n",
      "Epoch 2/20\n",
      "3702/3702 [==============================] - 1s 196us/sample - loss: 1.3125 - acc: 0.3879 - val_loss: 1.2762 - val_acc: 0.3730\n",
      "Epoch 3/20\n",
      "3702/3702 [==============================] - 1s 197us/sample - loss: 1.3091 - acc: 0.3801 - val_loss: 1.2670 - val_acc: 0.3914\n",
      "Epoch 4/20\n",
      "3702/3702 [==============================] - 1s 165us/sample - loss: 1.3072 - acc: 0.3928 - val_loss: 1.2772 - val_acc: 0.3903\n",
      "Epoch 5/20\n",
      "3702/3702 [==============================] - 1s 184us/sample - loss: 1.3091 - acc: 0.3920 - val_loss: 1.2544 - val_acc: 0.3924\n",
      "Epoch 6/20\n",
      "3702/3702 [==============================] - 1s 185us/sample - loss: 1.3007 - acc: 0.3965 - val_loss: 1.2549 - val_acc: 0.4011\n",
      "Epoch 7/20\n",
      "3702/3702 [==============================] - 1s 177us/sample - loss: 1.3050 - acc: 0.3903 - val_loss: 1.2651 - val_acc: 0.4032\n",
      "Epoch 8/20\n",
      "3702/3702 [==============================] - 1s 189us/sample - loss: 1.3050 - acc: 0.3974 - val_loss: 1.2598 - val_acc: 0.4022\n",
      "Epoch 9/20\n",
      "3702/3702 [==============================] - 1s 181us/sample - loss: 1.3047 - acc: 0.4001 - val_loss: 1.2685 - val_acc: 0.3827\n",
      "Epoch 10/20\n",
      "3702/3702 [==============================] - 1s 172us/sample - loss: 1.3023 - acc: 0.3857 - val_loss: 1.2702 - val_acc: 0.3859\n",
      "Epoch 11/20\n",
      "3702/3702 [==============================] - 1s 185us/sample - loss: 1.2989 - acc: 0.4028 - val_loss: 1.2643 - val_acc: 0.4054\n",
      "Epoch 12/20\n",
      "3702/3702 [==============================] - 1s 175us/sample - loss: 1.3025 - acc: 0.3990 - val_loss: 1.2613 - val_acc: 0.4032\n",
      "Epoch 13/20\n",
      "3702/3702 [==============================] - 1s 190us/sample - loss: 1.2997 - acc: 0.3906 - val_loss: 1.2596 - val_acc: 0.4054\n",
      "Epoch 14/20\n",
      "3702/3702 [==============================] - 1s 177us/sample - loss: 1.3000 - acc: 0.3990 - val_loss: 1.2642 - val_acc: 0.4032\n",
      "Epoch 15/20\n",
      "3702/3702 [==============================] - 1s 159us/sample - loss: 1.2993 - acc: 0.3965 - val_loss: 1.2610 - val_acc: 0.4000\n",
      "Epoch 16/20\n",
      "3702/3702 [==============================] - 1s 185us/sample - loss: 1.2980 - acc: 0.3998 - val_loss: 1.2600 - val_acc: 0.4032\n",
      "Epoch 17/20\n",
      "3702/3702 [==============================] - 1s 187us/sample - loss: 1.2984 - acc: 0.3911 - val_loss: 1.2603 - val_acc: 0.4097\n",
      "Epoch 18/20\n",
      "3702/3702 [==============================] - 1s 166us/sample - loss: 1.2987 - acc: 0.3979 - val_loss: 1.2587 - val_acc: 0.4065\n",
      "Epoch 19/20\n",
      "3702/3702 [==============================] - 1s 186us/sample - loss: 1.2965 - acc: 0.4006 - val_loss: 1.2626 - val_acc: 0.4000\n",
      "Epoch 20/20\n",
      "3702/3702 [==============================] - 1s 193us/sample - loss: 1.2975 - acc: 0.3960 - val_loss: 1.2668 - val_acc: 0.3946\n",
      "fold_2 acc: 0.4097297297297297 precision: 0.16372647111077865 recall : 0.2830363185201895 ,mac f1: 0.20726912933723085 ,mic f1: 0.4097297297297297\n",
      "test reprot:                precision    recall  f1-score   support\n",
      "\n",
      "           0     0.0000    0.0000    0.0000        10\n",
      "           1     0.0000    0.0000    0.0000        99\n",
      "           2     0.3668    0.6774    0.4759       248\n",
      "           3     0.0000    0.0000    0.0000       282\n",
      "           4     0.4518    0.7378    0.5604       286\n",
      "\n",
      "    accuracy                         0.4097       925\n",
      "   macro avg     0.1637    0.2830    0.2073       925\n",
      "weighted avg     0.2380    0.4097    0.3009       925\n",
      "\n",
      "fold_3 train_acc: 0.3876283090221502 train_precision: 0.1550142199349946 train_recall : 0.2806022832863593,mac f1: 0.19928629772093237 ,mic f1: 0.3876283090221502\n",
      "train reprot:                precision    recall  f1-score   support\n",
      "\n",
      "           0     0.0000    0.0000    0.0000        94\n",
      "           1     0.0000    0.0000    0.0000       398\n",
      "           2     0.3532    0.7064    0.4709       923\n",
      "           3     0.0000    0.0000    0.0000      1163\n",
      "           4     0.4219    0.6966    0.5255      1124\n",
      "\n",
      "    accuracy                         0.3876      3702\n",
      "   macro avg     0.1550    0.2806    0.1993      3702\n",
      "weighted avg     0.2162    0.3876    0.2770      3702\n",
      "\n",
      "max acc:0.4237837837837838\n",
      "min acc:0.3952483801295896\n",
      "mean acc:0.4102037242426011\n",
      "max precision:0.26600477566117026\n",
      "min precision:0.16372647111077865\n",
      "mean precision:0.2368659494234621\n",
      "max recall:0.29835724692596705\n",
      "min recall:0.2755307658385392\n",
      "mean recall:0.2884367545034775\n",
      "max mac f1:0.2642187348034688\n",
      "min mac f1:0.20726912933723085\n",
      "mean mac f1:0.2464430159681512\n",
      "max mic f1:0.4237837837837838\n",
      "min mic f1:0.3952483801295896\n",
      "mean mic f1:0.4102037242426011\n",
      "train max acc:0.41151040259389354\n",
      "train min acc:0.3876283090221502\n",
      "train mean acc:0.40042234558942785\n",
      "train max precision:0.26614584173590383\n",
      "train min precision:0.1550142199349946\n",
      "train mean precision:0.23469711951573755\n",
      "train max recall:0.28843691301962837\n",
      "train min recall:0.2762829177198494\n",
      "train mean recall:0.2838829660503059\n",
      "train max mac f1:0.26447620625715074\n",
      "train min mac f1:0.19928629772093237\n",
      "train mean mac f1:0.24267097962596199\n",
      "train max mic f1:0.41151040259389354\n",
      "train min mic f1:0.3876283090221502\n",
      "train mean mic f1:0.40042234558942785\n"
     ]
    },
    {
     "name": "stderr",
     "output_type": "stream",
     "text": [
      "/Users/kongmiao/opt/anaconda3/lib/python3.7/site-packages/sklearn/metrics/_classification.py:1248: UndefinedMetricWarning: Precision is ill-defined and being set to 0.0 in labels with no predicted samples. Use `zero_division` parameter to control this behavior.\n",
      "  _warn_prf(average, modifier, msg_start, len(result))\n",
      "/Users/kongmiao/opt/anaconda3/lib/python3.7/site-packages/sklearn/metrics/_classification.py:1248: UndefinedMetricWarning: Precision and F-score are ill-defined and being set to 0.0 in labels with no predicted samples. Use `zero_division` parameter to control this behavior.\n",
      "  _warn_prf(average, modifier, msg_start, len(result))\n",
      "/Users/kongmiao/opt/anaconda3/lib/python3.7/site-packages/sklearn/metrics/_classification.py:1248: UndefinedMetricWarning: Precision and F-score are ill-defined and being set to 0.0 in labels with no predicted samples. Use `zero_division` parameter to control this behavior.\n",
      "  _warn_prf(average, modifier, msg_start, len(result))\n",
      "/Users/kongmiao/opt/anaconda3/lib/python3.7/site-packages/sklearn/metrics/_classification.py:1248: UndefinedMetricWarning: Precision and F-score are ill-defined and being set to 0.0 in labels with no predicted samples. Use `zero_division` parameter to control this behavior.\n",
      "  _warn_prf(average, modifier, msg_start, len(result))\n",
      "/Users/kongmiao/opt/anaconda3/lib/python3.7/site-packages/sklearn/metrics/_classification.py:1248: UndefinedMetricWarning: Precision is ill-defined and being set to 0.0 in labels with no predicted samples. Use `zero_division` parameter to control this behavior.\n",
      "  _warn_prf(average, modifier, msg_start, len(result))\n",
      "/Users/kongmiao/opt/anaconda3/lib/python3.7/site-packages/sklearn/metrics/_classification.py:1248: UndefinedMetricWarning: Precision and F-score are ill-defined and being set to 0.0 in labels with no predicted samples. Use `zero_division` parameter to control this behavior.\n",
      "  _warn_prf(average, modifier, msg_start, len(result))\n",
      "/Users/kongmiao/opt/anaconda3/lib/python3.7/site-packages/sklearn/metrics/_classification.py:1248: UndefinedMetricWarning: Precision and F-score are ill-defined and being set to 0.0 in labels with no predicted samples. Use `zero_division` parameter to control this behavior.\n",
      "  _warn_prf(average, modifier, msg_start, len(result))\n",
      "/Users/kongmiao/opt/anaconda3/lib/python3.7/site-packages/sklearn/metrics/_classification.py:1248: UndefinedMetricWarning: Precision and F-score are ill-defined and being set to 0.0 in labels with no predicted samples. Use `zero_division` parameter to control this behavior.\n",
      "  _warn_prf(average, modifier, msg_start, len(result))\n"
     ]
    }
   ],
   "source": [
    "from sklearn import metrics\n",
    "recal_all=[]\n",
    "pre_all=[]\n",
    "f1_all=[]\n",
    "acc_all=[]\n",
    "f1_micro=[]\n",
    "\n",
    "t_recal_all=[]\n",
    "t_pre_all=[]\n",
    "t_f1_all=[]\n",
    "t_acc_all=[]\n",
    "t_f1_micro=[]\n",
    "k=5\n",
    "kf = KFold(n_splits=k, shuffle=True)\n",
    "#     tmppre=np.zeros(y.shape)\n",
    "ind=0\n",
    "for (train, test) in  kf.split(df.values):\n",
    "        print (\"fold\",ind,\"start\")\n",
    "        X_train=df.values[train]\n",
    "        y_train=label.values[train]\n",
    "        emd_train=dfemd.values[train]\n",
    "        emd_test=dfemd.values[test]\n",
    "        train_all=[]\n",
    "        train_all.append(X_train)\n",
    "        for ind in range(emd_train.shape[1]):\n",
    "            train_all.append(np.expand_dims(emd_train[:,ind],axis=1))\n",
    "            \n",
    "       \n",
    "        X_test=df.values[test]\n",
    "        testall=[]\n",
    "        testall.append(X_test)\n",
    "        for ind in range(emd_test.shape[1]):\n",
    "            testall.append(np.expand_dims(emd_test[:,ind],axis=1))\n",
    "#         break\n",
    "        y_test=label.values[test]\n",
    "        X_train=X_train.reshape(X_train.shape[0],X_train.shape[1])\n",
    "        X_test=X_test.reshape(X_test.shape[0],X_test.shape[1])\n",
    "        \n",
    "        callbacks = [EarlyStopping(monitor='val_acc', verbose=1, patience=1000),\n",
    "             ModelCheckpoint(\"model_wide_class_{}.hdf5\".format(ind), monitor='val_acc',\n",
    "                             mode='max', verbose=0, save_best_only=True,save_weights_only=True)]\n",
    "        model_new = get_deep_wide_net()\n",
    "\n",
    "        model_new.fit(train_all, y_train, epochs=20, batch_size=16, validation_data=(testall, y_test) ,callbacks=callbacks)\n",
    "        model_new.load_weights(\"model_wide_class_{}.hdf5\".format(ind)) #加载最优模型\n",
    "        ypre=np.argmax(model_new.predict(testall),axis=-1)\n",
    "        tmpacc=accuracy_score(y_test,ypre)\n",
    "        tmppre=precision_score(y_test,ypre,average=\"macro\")\n",
    "        tmprecal=recall_score(y_test,ypre,average=\"macro\")\n",
    "        tmpf1=f1_score(y_test,ypre,average=\"macro\")\n",
    "        tmpf1_mic=f1_score(y_test,ypre,average=\"micro\")\n",
    "        print (\"fold_{} acc: {} precision: {} recall : {} ,mac f1: {} ,mic f1: {}\".format(ind,tmpacc,tmppre,tmprecal,tmpf1,tmpf1_mic))\n",
    "        print (\"test reprot: \",classification_report(y_test,ypre,digits=4))\n",
    "        recal_all.append(tmprecal)\n",
    "        acc_all.append(tmpacc)\n",
    "        f1_all.append(tmpf1)\n",
    "        pre_all.append(tmppre)\n",
    "        f1_micro.append(tmpf1_mic)\n",
    "        ind+=1\n",
    "\n",
    "        ypre=np.argmax(model_new.predict(train_all),axis=-1)\n",
    "        tmpacc=accuracy_score(y_train,ypre)\n",
    "        tmppre=precision_score(y_train,ypre,average=\"macro\")\n",
    "        tmprecal=recall_score(y_train,ypre,average=\"macro\")\n",
    "        tmpf1=f1_score(y_train,ypre,average=\"macro\")\n",
    "        tmpf1_mic=f1_score(y_train,ypre,average=\"micro\")\n",
    "        print (\"fold_{} train_acc: {} train_precision: {} train_recall : {},mac f1: {} ,mic f1: {}\".format(ind,tmpacc,tmppre,tmprecal,tmpf1,tmpf1_mic))\n",
    "        print (\"train reprot: \",classification_report(y_train,ypre,digits=4))\n",
    "        t_recal_all.append(tmprecal)\n",
    "        t_acc_all.append(tmpacc)\n",
    "        t_f1_all.append(tmpf1)\n",
    "        t_pre_all.append(tmppre)\n",
    "        t_f1_micro.append(tmpf1_mic)\n",
    "    \n",
    "print (\"max acc:{}\".format(max(acc_all)))\n",
    "print (\"min acc:{}\".format(min(acc_all)))\n",
    "print (\"mean acc:{}\".format(sum(acc_all)/5))\n",
    "\n",
    "\n",
    "print (\"max precision:{}\".format(max(pre_all)))\n",
    "print (\"min precision:{}\".format(min(pre_all)))\n",
    "print (\"mean precision:{}\".format(sum(pre_all)/5))\n",
    "\n",
    "print (\"max recall:{}\".format(max(recal_all)))\n",
    "print (\"min recall:{}\".format(min(recal_all)))\n",
    "print (\"mean recall:{}\".format(sum(recal_all)/5))\n",
    "\n",
    "\n",
    "\n",
    "print (\"max mac f1:{}\".format(max(f1_all)))\n",
    "print (\"min mac f1:{}\".format(min(f1_all)))\n",
    "print (\"mean mac f1:{}\".format(sum(f1_all)/5))\n",
    "\n",
    "print (\"max mic f1:{}\".format(max(f1_micro)))\n",
    "print (\"min mic f1:{}\".format(min(f1_micro)))\n",
    "print (\"mean mic f1:{}\".format(sum(f1_micro)/5))\n",
    "\n",
    "\n",
    "print (\"train max acc:{}\".format(max(t_acc_all)))\n",
    "print (\"train min acc:{}\".format(min(t_acc_all)))\n",
    "print (\"train mean acc:{}\".format(sum(t_acc_all)/5))\n",
    "\n",
    "\n",
    "\n",
    "print (\"train max precision:{}\".format(max(t_pre_all)))\n",
    "print (\"train min precision:{}\".format(min(t_pre_all)))\n",
    "print (\"train mean precision:{}\".format(sum(t_pre_all)/5))\n",
    "\n",
    "\n",
    "print (\"train max recall:{}\".format(max(t_recal_all)))\n",
    "print (\"train min recall:{}\".format(min(t_recal_all)))\n",
    "print (\"train mean recall:{}\".format(sum(t_recal_all)/5))\n",
    "\n",
    "\n",
    "print (\"train max mac f1:{}\".format(max(t_f1_all)))\n",
    "print (\"train min mac f1:{}\".format(min(t_f1_all)))\n",
    "print (\"train mean mac f1:{}\".format(sum(t_f1_all)/5))\n",
    "\n",
    "\n",
    "print (\"train max mic f1:{}\".format(max(t_f1_micro)))\n",
    "print (\"train min mic f1:{}\".format(min(t_f1_micro)))\n",
    "print (\"train mean mic f1:{}\".format(sum(t_f1_micro)/5))"
   ]
  },
  {
   "cell_type": "code",
   "execution_count": 10,
   "metadata": {
    "ExecuteTime": {
     "end_time": "2021-12-21T13:36:18.080346Z",
     "start_time": "2021-12-21T13:36:18.077889Z"
    }
   },
   "outputs": [],
   "source": [
    "import random"
   ]
  },
  {
   "cell_type": "code",
   "execution_count": 11,
   "metadata": {
    "ExecuteTime": {
     "end_time": "2021-12-21T13:36:18.490646Z",
     "start_time": "2021-12-21T13:36:18.360715Z"
    }
   },
   "outputs": [],
   "source": [
    "#model_new.load_weights(\"model_wide_class_{}.hdf5\".format(ind))"
   ]
  },
  {
   "cell_type": "code",
   "execution_count": 12,
   "metadata": {
    "ExecuteTime": {
     "end_time": "2021-12-21T13:36:18.639944Z",
     "start_time": "2021-12-21T13:36:18.583827Z"
    }
   },
   "outputs": [],
   "source": [
    "from tqdm import tqdm\n",
    "def get_important(col=\"gender\",M=100,I=100):\n",
    "    \n",
    "    sumall=[]\n",
    "    for num in tqdm(range(I)):\n",
    "        num_fea=colname.index(col)+1\n",
    "        for i in random.sample(list(range(len(train_all))),1):  # (1)随机采样一条样本xi\n",
    "        #     print (i)\n",
    "            xi=[]\n",
    "            for j in range(len(train_all)):\n",
    "                xi.append(train_all[j][i:i+1])\n",
    "        tmp1=[]\n",
    "        for i in range(M):\n",
    "            for i in random.sample(list(range(len(train_all))),1): #(2)随机采样一条样本z\n",
    "        #         print (i)\n",
    "                z=[]\n",
    "                for j in range(len(train_all)):\n",
    "                    z.append(train_all[j][i:i+1])\n",
    "            shutuf=random.sample(list(range(len(colname))),len(colname)) #(3)随机采样1到n排列 \n",
    "\n",
    "            x_=[xi[0]]+list(np.array(xi[1:])[shutuf])#（4）\n",
    "            z_=[z[0]]+list(np.array(z[1:])[shutuf])#(5)\n",
    "\n",
    "            x_1=x_[:1+num_fea]+z_[1+num_fea:]\n",
    "            x_2=x_[:num_fea]+z_[num_fea:] #(6)\n",
    "\n",
    "        #     print (abs(np.mean(model_new.predict(x_1)-model_new.predict(x_2),axis=1)[0])) #(7)\n",
    "            tmp1.append(abs(model_new.predict(x_1)-model_new.predict(x_2)))\n",
    "        sumall.append(tmp1)\n",
    "    return np.mean(np.array(sumall),axis=0)[0]"
   ]
  },
  {
   "cell_type": "code",
   "execution_count": 13,
   "metadata": {
    "ExecuteTime": {
     "end_time": "2021-12-21T13:36:25.482371Z",
     "start_time": "2021-12-21T13:36:19.076673Z"
    }
   },
   "outputs": [
    {
     "name": "stderr",
     "output_type": "stream",
     "text": [
      "100%|██████████| 40/40 [00:08<00:00,  4.87it/s]\n",
      "100%|██████████| 40/40 [00:06<00:00,  5.98it/s]\n",
      "100%|██████████| 40/40 [00:09<00:00,  4.13it/s]\n"
     ]
    }
   ],
   "source": [
    "fea_import=[]\n",
    "for col in colname:\n",
    "    tmp=get_important(col,M=40,I=40)\n",
    "    fea_import.append(tmp)"
   ]
  },
  {
   "cell_type": "code",
   "execution_count": 24,
   "metadata": {
    "ExecuteTime": {
     "end_time": "2021-12-21T13:36:28.739305Z",
     "start_time": "2021-12-21T13:36:28.734651Z"
    }
   },
   "outputs": [],
   "source": [
    "dfnew=pd.DataFrame(np.squeeze(np.array(fea_import)))\n",
    "dfnew.columns=[str(i)+\"_Importance\" for  i in [1,2,3,4,5]]"
   ]
  },
  {
   "cell_type": "code",
   "execution_count": 25,
   "metadata": {
    "ExecuteTime": {
     "end_time": "2021-12-21T13:36:28.899834Z",
     "start_time": "2021-12-21T13:36:28.896219Z"
    }
   },
   "outputs": [],
   "source": [
    "dfnew.index=colname"
   ]
  },
  {
   "cell_type": "code",
   "execution_count": 26,
   "metadata": {
    "ExecuteTime": {
     "end_time": "2021-12-21T13:36:29.066202Z",
     "start_time": "2021-12-21T13:36:29.062484Z"
    }
   },
   "outputs": [],
   "source": [
    "dfnew=dfnew[:-1]"
   ]
  },
  {
   "cell_type": "code",
   "execution_count": 27,
   "metadata": {
    "ExecuteTime": {
     "end_time": "2021-12-21T13:36:35.106367Z",
     "start_time": "2021-12-21T13:36:33.349549Z"
    }
   },
   "outputs": [
    {
     "data": {
      "image/png": "[encoded data removed]",
      "text/plain": [
       "<Figure size 720x720 with 2 Axes>"
      ]
     },
     "metadata": {
      "needs_background": "light"
     },
     "output_type": "display_data"
    }
   ],
   "source": [
    "import matplotlib.pyplot as plt\n",
    "import seaborn as sns\n",
    "\n",
    "import matplotlib.pyplot as plt\n",
    "plt.rcParams['font.sans-serif'] = ['Arial Unicode MS']\n",
    "plt.rcParams['font.size'] = '14'\n",
    "plt.figure(figsize=(10,10))\n",
    "sns.heatmap(data=dfnew,linewidths=1,annot=True,cmap=\"GnBu\",fmt=\".5f\")\n",
    "plt.savefig(\"2.9宽深-value公平.png\",dpi=300)"
   ]
  },
  {
   "cell_type": "code",
   "execution_count": 28,
   "metadata": {},
   "outputs": [
    {
     "data": {
      "image/png": "[encoded data removed]",
      "text/plain": [
       "<Figure size 720x720 with 2 Axes>"
      ]
     },
     "metadata": {
      "needs_background": "light"
     },
     "output_type": "display_data"
    }
   ],
   "source": [
    "dfnew=dfnew.sort_values(by=\"3_Importance\",ascending=False)\n",
    "dfnew=dfnew[:10]\n",
    "plt.figure(figsize=(10,10))\n",
    "sns.heatmap(data=dfnew,linewidths=1,annot=True,cmap=\"GnBu\",fmt=\".5f\")\n",
    "plt.savefig(\"2.9宽深value_排序前10个公平.png\",dpi=300)"
   ]
  },
  {
   "cell_type": "code",
   "execution_count": 29,
   "metadata": {},
   "outputs": [
    {
     "data": {
      "image/png": "[encoded data removed]",
      "text/plain": [
       "<Figure size 720x720 with 2 Axes>"
      ]
     },
     "metadata": {
      "needs_background": "light"
     },
     "output_type": "display_data"
    }
   ],
   "source": [
    "dfnew=dfnew.sort_values(by=\"3_Importance\",ascending=False)\n",
    "dfnew=dfnew[:10]\n",
    "plt.figure(figsize=(10,10))\n",
    "sns.heatmap(data=dfnew,linewidths=1,annot=True,cmap=\"GnBu\",fmt=\".5f\")\n",
    "plt.savefig(\"2.12宽深value_排序前10个公平.pdf\",dpi=300)"
   ]
  },
  {
   "cell_type": "code",
   "execution_count": 20,
   "metadata": {},
   "outputs": [
    {
     "data": {
      "image/png": "[encoded data removed]",
      "text/plain": [
       "<Figure size 720x720 with 2 Axes>"
      ]
     },
     "metadata": {
      "needs_background": "light"
     },
     "output_type": "display_data"
    }
   ],
   "source": [
    "dfnew=dfnew.sort_values(by=\"3_Importance\",ascending=False)\n",
    "dfnew=dfnew[:5]\n",
    "plt.figure(figsize=(10,10))\n",
    "sns.heatmap(data=dfnew,linewidths=1,annot=True,cmap=\"GnBu\",fmt=\".5f\")\n",
    "plt.savefig(\"2.9宽深value_排序前5个公平.png\",dpi=300)"
   ]
  },
  {
   "cell_type": "code",
   "execution_count": 21,
   "metadata": {},
   "outputs": [
    {
     "data": {
      "image/png": "[encoded data removed]",
      "text/plain": [
       "<Figure size 720x720 with 2 Axes>"
      ]
     },
     "metadata": {
      "needs_background": "light"
     },
     "output_type": "display_data"
    }
   ],
   "source": [
    "dfnew=dfnew.sort_values(by=\"3_Importance\",ascending=False)\n",
    "dfnew=dfnew[:5]\n",
    "plt.figure(figsize=(10,10))\n",
    "sns.heatmap(data=dfnew,linewidths=1,annot=True,cmap=\"GnBu\",fmt=\".5f\")\n",
    "plt.savefig(\"2.9宽深value_排序前5个公平.pdf\",dpi=300)"
   ]
  },
  {
   "cell_type": "code",
   "execution_count": null,
   "metadata": {},
   "outputs": [],
   "source": []
  },
  {
   "cell_type": "code",
   "execution_count": null,
   "metadata": {},
   "outputs": [],
   "source": []
  },
  {
   "cell_type": "code",
   "execution_count": null,
   "metadata": {},
   "outputs": [],
   "source": []
  }
 ],
 "metadata": {
  "kernelspec": {
   "display_name": "Python 3",
   "language": "python",
   "name": "python3"
  },
  "language_info": {
   "codemirror_mode": {
    "name": "ipython",
    "version": 3
   },
   "file_extension": ".py",
   "mimetype": "text/x-python",
   "name": "python",
   "nbconvert_exporter": "python",
   "pygments_lexer": "ipython3",
   "version": "3.7.6"
  },
  "toc": {
   "base_numbering": 1,
   "nav_menu": {},
   "number_sections": true,
   "sideBar": true,
   "skip_h1_title": false,
   "title_cell": "Table of Contents",
   "title_sidebar": "Contents",
   "toc_cell": false,
   "toc_position": {},
   "toc_section_display": true,
   "toc_window_display": false
  }
 },
 "nbformat": 4,
 "nbformat_minor": 2
}
